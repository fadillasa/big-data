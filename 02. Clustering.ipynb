{
 "cells": [
  {
   "cell_type": "markdown",
   "metadata": {},
   "source": [
    "## Spark Initialization"
   ]
  },
  {
   "cell_type": "code",
   "execution_count": 1,
   "metadata": {},
   "outputs": [],
   "source": [
    "# Call findspark\n",
    "import findspark\n",
    "findspark.init()"
   ]
  },
  {
   "cell_type": "code",
   "execution_count": 2,
   "metadata": {},
   "outputs": [],
   "source": [
    "# Import required library\n",
    "from pyspark.sql import SparkSession\n",
    "\n",
    "# Create Spark Session\n",
    "spark = SparkSession \\\n",
    "    .builder \\\n",
    "    .appName(\"Python Spark SQL basic example\") \\\n",
    "    .getOrCreate()"
   ]
  },
  {
   "cell_type": "code",
   "execution_count": 3,
   "metadata": {},
   "outputs": [
    {
     "name": "stdout",
     "output_type": "stream",
     "text": [
      "<pyspark.sql.session.SparkSession object at 0x000000000707A198>\n"
     ]
    }
   ],
   "source": [
    "# Print Spark object ID\n",
    "print(spark)"
   ]
  },
  {
   "cell_type": "markdown",
   "metadata": {},
   "source": [
    "## Loading Data using Spark"
   ]
  },
  {
   "cell_type": "code",
   "execution_count": 4,
   "metadata": {},
   "outputs": [],
   "source": [
    "# Datasets can be downloaded from https://www.kaggle.com/new-york-state/nys-511-ny-events\n",
    "# Remove null values using na.drop\n",
    "df = spark.read.csv(\"D:/TC/6BigData/Dataset/nys-511-ny-events/511-ny-events-beginning-2010.csv\", header=True, inferSchema=True).na.drop()"
   ]
  },
  {
   "cell_type": "code",
   "execution_count": 5,
   "metadata": {},
   "outputs": [],
   "source": [
    "# Convert the type of Latitude and Longitude values into double\n",
    "df = df.withColumn(\"Latitude\", df[\"Latitude\"].cast(\"double\"))\n",
    "df = df.withColumn(\"Longitude\", df[\"Longitude\"].cast(\"double\"))"
   ]
  },
  {
   "cell_type": "code",
   "execution_count": 6,
   "metadata": {},
   "outputs": [
    {
     "data": {
      "text/plain": [
       "StructType(List(StructField(Event Type,StringType,true),StructField(Organization Name,StringType,true),StructField(Facility Name,StringType,true),StructField(Direction,StringType,true),StructField(City,StringType,true),StructField(County,StringType,true),StructField(State,StringType,true),StructField(Create Time,TimestampType,true),StructField(Close Time,TimestampType,true),StructField(Event Description,StringType,true),StructField(Responding Organization Id,StringType,true),StructField(Latitude,DoubleType,true),StructField(Longitude,DoubleType,true)))"
      ]
     },
     "execution_count": 6,
     "metadata": {},
     "output_type": "execute_result"
    }
   ],
   "source": [
    "df.schema"
   ]
  },
  {
   "cell_type": "code",
   "execution_count": 7,
   "metadata": {},
   "outputs": [
    {
     "data": {
      "text/plain": [
       "1099933"
      ]
     },
     "execution_count": 7,
     "metadata": {},
     "output_type": "execute_result"
    }
   ],
   "source": [
    "df.count()"
   ]
  },
  {
   "cell_type": "code",
   "execution_count": 8,
   "metadata": {},
   "outputs": [
    {
     "name": "stdout",
     "output_type": "stream",
     "text": [
      "+--------------------+--------------------+--------------------+---------------+--------------------+-----------+-----+-------------------+-------------------+--------------------+--------------------------+---------+----------+\n",
      "|          Event Type|   Organization Name|       Facility Name|      Direction|                City|     County|State|        Create Time|         Close Time|   Event Description|Responding Organization Id| Latitude| Longitude|\n",
      "+--------------------+--------------------+--------------------+---------------+--------------------+-----------+-----+-------------------+-------------------+--------------------+--------------------------+---------+----------+\n",
      "|        construction|MTA NYC Transit S...|              D Line|    Bronx bound|      from Manhattan|   New York|   NY|2016-06-30 22:58:00|2016-07-01 05:15:00|Due to Constructi...|      MTA NYC Transit S...|40.769205|-73.984887|\n",
      "|        construction|Port Authority Ne...|George Washington...|      Westbound|           Manhattan|   New York|   NY|2016-06-30 22:53:00|2016-07-01 04:00:00|Construction, exp...|      Port Authority Ne...|40.850318|-73.945276|\n",
      "|              delays|New York State De...|               I-278|      Eastbound|    between New York|      Kings|   NY|2016-06-30 22:49:00|2016-07-01 01:35:00|Delays on I-278 e...|      New York State De...|  40.6916|-73.999099|\n",
      "|              delays|New York State De...|                I-95|     Northbound|    between New York|   New York|   NY|2016-06-30 22:48:00|2016-07-01 04:43:00|Delays on I-95 no...|      New York State De...|40.851501|-73.952102|\n",
      "|        construction|New York State De...|               I-495|      Westbound|      between Queens|     Queens|   NY|2016-06-30 22:47:00|2016-07-01 04:43:00|Construction on I...|      New York State De...|40.737598|-73.850601|\n",
      "|              delays|New York State De...|               I-278|      Westbound|    between New York|     Queens|   NY|2016-06-30 22:44:00|2016-07-01 01:54:00|Delays on I-278 w...|      New York State De...|  40.7406|-73.899002|\n",
      "|        construction|MTA NYC Transit S...|              A Line|Manhattan bound|      from Manhattan|   New York|   NY|2016-06-30 22:43:00|2016-07-01 05:01:00|Due to Constructi...|      MTA NYC Transit S...|40.824053|-73.944835|\n",
      "|        construction|New Jersey DOT - ...|  US 1&9 Truck Route|     Southbound|area of Kearny/Je...|     Hudson|   NJ|2016-06-30 22:39:00|2016-07-01 01:01:00|Construction on U...|      New Jersey DOT - ...|40.728237|-74.102223|\n",
      "|            roadwork|Connecticut Depar...|                I95N|     Northbound|       at Bridgeport|  Fairfield|   CT|2016-06-30 22:32:00|2016-07-01 05:29:00|Road Work on I-95...|      Connecticut Depar...|41.171118|-73.192596|\n",
      "|    disabled vehicle|New York State De...|Taconic State Par...|     Northbound|      north of Ghent|   Columbia|   NY|2016-06-30 22:31:00|2016-07-01 00:35:00|Disabled vehicle ...|      New York State De...|42.256999|-73.613998|\n",
      "|accident with inj...|New Jersey DOT - ...|                I-76|      Eastbound|     Gloucester City|     Camden|   NJ|2016-06-30 22:30:00|2016-07-01 00:42:00|Accident with Inj...|      New Jersey DOT - ...|39.882305|-75.103304|\n",
      "|            incident|MTA Long Island R...| PT Jefferson Branch|      Eastbound|out of Suffolk Co...|    Suffolk|   NY|2016-06-30 22:29:00|2016-06-30 23:54:00|Due to Delays, ea...|      MTA Long Island R...|40.852352|-73.409812|\n",
      "|    disabled vehicle|New York State De...|               I-684|     Northbound|          at Bedford|Westchester|   NY|2016-06-30 22:28:00|2016-07-01 00:13:00|Disabled vehicle ...|      New York State De...|41.263999|-73.684097|\n",
      "|        construction|Port Authority Ne...|      Lincoln Tunnel|      Eastbound|       Weehawken Twp|     Hudson|   NY|2016-06-30 22:24:00|2016-07-01 04:18:00|Construction, tun...|      Port Authority Ne...|40.764602|-74.014917|\n",
      "|        construction|MTA NYC Transit S...|              G Line|Both directions|      between Queens|     Queens|   NY|2016-06-30 22:21:00|2016-07-01 05:02:00|Due to Constructi...|      MTA NYC Transit S...|40.746397|-73.944422|\n",
      "|        construction|New Jersey DOT - ...|               I-280|      Westbound|      ramp to Newark|      Essex|   NJ|2016-06-30 22:19:00|2016-07-01 05:03:00|Construction, con...|      New Jersey DOT - ...|40.748066|-74.167155|\n",
      "|        construction|New Jersey DOT - ...|               I-280|      Westbound|      ramp to Newark|      Essex|   NJ|2016-06-30 22:17:00|2016-07-01 05:19:00|Construction on I...|      New Jersey DOT - ...|40.748066|-74.167155|\n",
      "|   paving operations|New Jersey DOT - ...|                US 1|     Northbound|between South Bru...|  Middlesex|   NJ|2016-06-30 22:15:00|2016-07-04 14:18:00|Paving operations...|      New Jersey DOT - ...|40.379418|-74.579738|\n",
      "|        construction|New Jersey DOT - ...|        NJ 139 Lower|Both directions| between Jersey City|     Hudson|   NJ|2016-06-30 22:14:00|2016-07-01 05:03:00|Construction, con...|      New Jersey DOT - ...|40.739058|-74.067733|\n",
      "|        construction|New York State De...|  Harlem River Drive|     Southbound|approaching New York|   New York|   NY|2016-06-30 22:13:00|2016-07-01 04:47:00|Construction on H...|      New York State De...|40.827999|  -73.9347|\n",
      "+--------------------+--------------------+--------------------+---------------+--------------------+-----------+-----+-------------------+-------------------+--------------------+--------------------------+---------+----------+\n",
      "only showing top 20 rows\n",
      "\n"
     ]
    }
   ],
   "source": [
    "df.show()"
   ]
  },
  {
   "cell_type": "code",
   "execution_count": 9,
   "metadata": {},
   "outputs": [],
   "source": [
    "# Register the DataFrame as a SQL temporary view\n",
    "df.createOrReplaceTempView(\"ny_events\")"
   ]
  },
  {
   "cell_type": "markdown",
   "metadata": {},
   "source": [
    "## Clustering"
   ]
  },
  {
   "cell_type": "code",
   "execution_count": 10,
   "metadata": {},
   "outputs": [],
   "source": [
    "# Menampilkan data kejadian berdasarkan lokasi terjadinya\n",
    "query1 = spark.sql(\"SELECT `Event Type`, `Event Description`, Latitude, Longitude \\\n",
    "            FROM ny_events\").na.drop()"
   ]
  },
  {
   "cell_type": "code",
   "execution_count": 11,
   "metadata": {},
   "outputs": [
    {
     "name": "stdout",
     "output_type": "stream",
     "text": [
      "+--------------------+--------------------+---------+----------+\n",
      "|          Event Type|   Event Description| Latitude| Longitude|\n",
      "+--------------------+--------------------+---------+----------+\n",
      "|        construction|Due to Constructi...|40.769205|-73.984887|\n",
      "|        construction|Construction, exp...|40.850318|-73.945276|\n",
      "|              delays|Delays on I-278 e...|  40.6916|-73.999099|\n",
      "|              delays|Delays on I-95 no...|40.851501|-73.952102|\n",
      "|        construction|Construction on I...|40.737598|-73.850601|\n",
      "|              delays|Delays on I-278 w...|  40.7406|-73.899002|\n",
      "|        construction|Due to Constructi...|40.824053|-73.944835|\n",
      "|        construction|Construction on U...|40.728237|-74.102223|\n",
      "|            roadwork|Road Work on I-95...|41.171118|-73.192596|\n",
      "|    disabled vehicle|Disabled vehicle ...|42.256999|-73.613998|\n",
      "|accident with inj...|Accident with Inj...|39.882305|-75.103304|\n",
      "|            incident|Due to Delays, ea...|40.852352|-73.409812|\n",
      "|    disabled vehicle|Disabled vehicle ...|41.263999|-73.684097|\n",
      "|        construction|Construction, tun...|40.764602|-74.014917|\n",
      "|        construction|Due to Constructi...|40.746397|-73.944422|\n",
      "|        construction|Construction, con...|40.748066|-74.167155|\n",
      "|        construction|Construction on I...|40.748066|-74.167155|\n",
      "|   paving operations|Paving operations...|40.379418|-74.579738|\n",
      "|        construction|Construction, con...|40.739058|-74.067733|\n",
      "|        construction|Construction on H...|40.827999|  -73.9347|\n",
      "+--------------------+--------------------+---------+----------+\n",
      "only showing top 20 rows\n",
      "\n"
     ]
    }
   ],
   "source": [
    "query1.show()"
   ]
  },
  {
   "cell_type": "code",
   "execution_count": 12,
   "metadata": {},
   "outputs": [
    {
     "name": "stdout",
     "output_type": "stream",
     "text": [
      "+--------------------+--------------------+---------+----------+--------------------+\n",
      "|          Event Type|   Event Description| Latitude| Longitude|            features|\n",
      "+--------------------+--------------------+---------+----------+--------------------+\n",
      "|        construction|Due to Constructi...|40.769205|-73.984887|[40.769205,-73.98...|\n",
      "|        construction|Construction, exp...|40.850318|-73.945276|[40.850318,-73.94...|\n",
      "|              delays|Delays on I-278 e...|  40.6916|-73.999099|[40.6916,-73.999099]|\n",
      "|              delays|Delays on I-95 no...|40.851501|-73.952102|[40.851501,-73.95...|\n",
      "|        construction|Construction on I...|40.737598|-73.850601|[40.737598,-73.85...|\n",
      "|              delays|Delays on I-278 w...|  40.7406|-73.899002|[40.7406,-73.899002]|\n",
      "|        construction|Due to Constructi...|40.824053|-73.944835|[40.824053,-73.94...|\n",
      "|        construction|Construction on U...|40.728237|-74.102223|[40.728237,-74.10...|\n",
      "|            roadwork|Road Work on I-95...|41.171118|-73.192596|[41.171118,-73.19...|\n",
      "|    disabled vehicle|Disabled vehicle ...|42.256999|-73.613998|[42.256999,-73.61...|\n",
      "|accident with inj...|Accident with Inj...|39.882305|-75.103304|[39.882305,-75.10...|\n",
      "|            incident|Due to Delays, ea...|40.852352|-73.409812|[40.852352,-73.40...|\n",
      "|    disabled vehicle|Disabled vehicle ...|41.263999|-73.684097|[41.263999,-73.68...|\n",
      "|        construction|Construction, tun...|40.764602|-74.014917|[40.764602,-74.01...|\n",
      "|        construction|Due to Constructi...|40.746397|-73.944422|[40.746397,-73.94...|\n",
      "|        construction|Construction, con...|40.748066|-74.167155|[40.748066,-74.16...|\n",
      "|        construction|Construction on I...|40.748066|-74.167155|[40.748066,-74.16...|\n",
      "|   paving operations|Paving operations...|40.379418|-74.579738|[40.379418,-74.57...|\n",
      "|        construction|Construction, con...|40.739058|-74.067733|[40.739058,-74.06...|\n",
      "|        construction|Construction on H...|40.827999|  -73.9347|[40.827999,-73.9347]|\n",
      "+--------------------+--------------------+---------+----------+--------------------+\n",
      "only showing top 20 rows\n",
      "\n"
     ]
    }
   ],
   "source": [
    "# Assembling Vector\n",
    "from pyspark.ml.feature import VectorAssembler\n",
    "\n",
    "assembler = VectorAssembler(\n",
    "    inputCols=[\"Latitude\", \"Longitude\"],\n",
    "    outputCol='features')\n",
    "\n",
    "query1 = assembler.transform(query1)\n",
    "query1.show()"
   ]
  },
  {
   "cell_type": "code",
   "execution_count": 13,
   "metadata": {},
   "outputs": [],
   "source": [
    "# Train model\n",
    "from pyspark.ml.clustering import KMeans\n",
    "from pyspark.ml.evaluation import ClusteringEvaluator\n",
    "\n",
    "kmeans = KMeans().setK(4).setSeed(1)\n",
    "model = kmeans.fit(query1)"
   ]
  },
  {
   "cell_type": "code",
   "execution_count": 14,
   "metadata": {},
   "outputs": [
    {
     "name": "stdout",
     "output_type": "stream",
     "text": [
      "+------------+--------------------+---------+----------+--------------------+----------+\n",
      "|  Event Type|   Event Description| Latitude| Longitude|            features|prediction|\n",
      "+------------+--------------------+---------+----------+--------------------+----------+\n",
      "|construction|Due to Constructi...|40.769205|-73.984887|[40.769205,-73.98...|         0|\n",
      "|construction|Construction, exp...|40.850318|-73.945276|[40.850318,-73.94...|         0|\n",
      "|      delays|Delays on I-278 e...|  40.6916|-73.999099|[40.6916,-73.999099]|         0|\n",
      "|      delays|Delays on I-95 no...|40.851501|-73.952102|[40.851501,-73.95...|         0|\n",
      "|construction|Construction on I...|40.737598|-73.850601|[40.737598,-73.85...|         0|\n",
      "+------------+--------------------+---------+----------+--------------------+----------+\n",
      "only showing top 5 rows\n",
      "\n"
     ]
    }
   ],
   "source": [
    "# Make a prediction\n",
    "predictions = model.transform(query1)\n",
    "predictions.show(5)"
   ]
  },
  {
   "cell_type": "code",
   "execution_count": 15,
   "metadata": {},
   "outputs": [
    {
     "name": "stdout",
     "output_type": "stream",
     "text": [
      "Silhouette with squared euclidean distance = 0.9095030982\n"
     ]
    }
   ],
   "source": [
    "# Evaluate clustering by computing Silhouette score\n",
    "evaluator = ClusteringEvaluator()\n",
    "\n",
    "silhouette = evaluator.evaluate(predictions)\n",
    "print(\"Silhouette with squared euclidean distance = \" + str(silhouette))"
   ]
  },
  {
   "cell_type": "code",
   "execution_count": 16,
   "metadata": {},
   "outputs": [
    {
     "name": "stdout",
     "output_type": "stream",
     "text": [
      "Cluster Centers: \n",
      "[ 40.78559201 -74.01568581]\n",
      "[41.42034982 41.42034982]\n",
      "[-3.67614880e-05 -3.00501313e-06]\n",
      "[ 42.79100573 -76.81967214]\n"
     ]
    }
   ],
   "source": [
    "# Shows the result\n",
    "centers = model.clusterCenters()\n",
    "print(\"Cluster Centers: \")\n",
    "for center in centers:\n",
    "    print(center)"
   ]
  },
  {
   "cell_type": "code",
   "execution_count": 17,
   "metadata": {},
   "outputs": [
    {
     "name": "stdout",
     "output_type": "stream",
     "text": [
      "Pixiedust database opened successfully\n"
     ]
    },
    {
     "data": {
      "text/html": [
       "\n",
       "        <div style=\"margin:10px\">\n",
       "            <a href=\"https://github.com/ibm-watson-data-lab/pixiedust\" target=\"_new\">\n",
       "                <img src=\"https://github.com/ibm-watson-data-lab/pixiedust/raw/master/docs/_static/pd_icon32.png\" style=\"float:left;margin-right:10px\"/>\n",
       "            </a>\n",
       "            <span>Pixiedust version 1.1.15</span>\n",
       "        </div>\n",
       "        "
      ],
      "text/plain": [
       "<IPython.core.display.HTML object>"
      ]
     },
     "metadata": {},
     "output_type": "display_data"
    }
   ],
   "source": [
    "# Visualization using pixiedust\n",
    "import pixiedust"
   ]
  },
  {
   "cell_type": "code",
   "execution_count": 18,
   "metadata": {
    "pixiedust": {
     "displayParams": {
      "aggregation": "COUNT",
      "basemap": "light-v9",
      "chartsize": "100",
      "coloropacity": "100",
      "colorrampname": "Orange to Purple",
      "custombasecolorsecondary": "#ffff00",
      "handlerId": "mapView",
      "keyFields": "Latitude,Longitude",
      "kind": "choropleth",
      "mapboxtoken": "pk.eyJ1IjoibWFwYm94IiwiYSI6ImNpejY4M29iazA2Z2gycXA4N2pmbDZmangifQ.-g_vE53SD2WrJ6tFX7QHmA",
      "valueFields": "prediction"
     }
    },
    "scrolled": false
   },
   "outputs": [
    {
     "data": {
      "text/html": [
       "<style type=\"text/css\">.pd_warning{display:none;}</style><div class=\"pd_warning\"><em>Hey, there's something awesome here! To see it, open this notebook outside GitHub, in a viewer like Jupyter</em></div>"
      ],
      "text/plain": [
       "<IPython.core.display.HTML object>"
      ]
     },
     "metadata": {
      "pixieapp_metadata": null
     },
     "output_type": "display_data"
    }
   ],
   "source": [
    "display(predictions)"
   ]
  },
  {
   "attachments": {},
   "cell_type": "markdown",
   "metadata": {},
   "source": [
    "![cluster](img/cluster-1.png)"
   ]
  },
  {
   "cell_type": "code",
   "execution_count": 19,
   "metadata": {},
   "outputs": [],
   "source": [
    "# Menampilkan total kejadian yang ditangani dari setiap organisasi\n",
    "query2 = spark.sql(\"SELECT `Organization Name`, COUNT(`Organization Name`) AS `Total Event`\\\n",
    "                    FROM ny_events \\\n",
    "                    GROUP BY `Organization Name`\").na.drop()"
   ]
  },
  {
   "cell_type": "code",
   "execution_count": 20,
   "metadata": {},
   "outputs": [
    {
     "name": "stdout",
     "output_type": "stream",
     "text": [
      "+--------------------+-----------+\n",
      "|   Organization Name|Total Event|\n",
      "+--------------------+-----------+\n",
      "|      NJ Transit Bus|       8075|\n",
      "| Staten Island Ferry|         73|\n",
      "|Palisades Interst...|         91|\n",
      "|Bergen County Police|         23|\n",
      "| MTA Long Island Bus|          7|\n",
      "|MTA Bridges and T...|          1|\n",
      "| Westchester Co. DPW|       1061|\n",
      "|       NJ DOT - STMC|     171157|\n",
      "|   NYSDOT - Region 9|        787|\n",
      "|Delaware River Po...|        222|\n",
      "|  MTA Command Center|        182|\n",
      "|             Megabus|          1|\n",
      "|         NYSDOTR2379|         51|\n",
      "|Port Authority NY...|          2|\n",
      "| Meadowlands Complex|          4|\n",
      "|Madison Square Ga...|          1|\n",
      "|New Jersey Turnpi...|      18374|\n",
      "|        JFK AirTrain|        625|\n",
      "|Dover Township Po...|          1|\n",
      "|Port Authority NY/NJ|      24366|\n",
      "+--------------------+-----------+\n",
      "only showing top 20 rows\n",
      "\n"
     ]
    }
   ],
   "source": [
    "query2.show()"
   ]
  },
  {
   "cell_type": "code",
   "execution_count": 21,
   "metadata": {},
   "outputs": [
    {
     "name": "stdout",
     "output_type": "stream",
     "text": [
      "+--------------------+-----------+----------+\n",
      "|   Organization Name|Total Event|  features|\n",
      "+--------------------+-----------+----------+\n",
      "|      NJ Transit Bus|       8075|  [8075.0]|\n",
      "| Staten Island Ferry|         73|    [73.0]|\n",
      "|Palisades Interst...|         91|    [91.0]|\n",
      "|Bergen County Police|         23|    [23.0]|\n",
      "| MTA Long Island Bus|          7|     [7.0]|\n",
      "|MTA Bridges and T...|          1|     [1.0]|\n",
      "| Westchester Co. DPW|       1061|  [1061.0]|\n",
      "|       NJ DOT - STMC|     171157|[171157.0]|\n",
      "|   NYSDOT - Region 9|        787|   [787.0]|\n",
      "|Delaware River Po...|        222|   [222.0]|\n",
      "|  MTA Command Center|        182|   [182.0]|\n",
      "|             Megabus|          1|     [1.0]|\n",
      "|         NYSDOTR2379|         51|    [51.0]|\n",
      "|Port Authority NY...|          2|     [2.0]|\n",
      "| Meadowlands Complex|          4|     [4.0]|\n",
      "|Madison Square Ga...|          1|     [1.0]|\n",
      "|New Jersey Turnpi...|      18374| [18374.0]|\n",
      "|        JFK AirTrain|        625|   [625.0]|\n",
      "|Dover Township Po...|          1|     [1.0]|\n",
      "|Port Authority NY/NJ|      24366| [24366.0]|\n",
      "+--------------------+-----------+----------+\n",
      "only showing top 20 rows\n",
      "\n"
     ]
    }
   ],
   "source": [
    "# Assembling Vector\n",
    "from pyspark.ml.feature import VectorAssembler\n",
    "\n",
    "assembler = VectorAssembler(\n",
    "    inputCols=[\"Total Event\"],\n",
    "    outputCol='features')\n",
    "\n",
    "query2 = assembler.transform(query2)\n",
    "query2.show()"
   ]
  },
  {
   "cell_type": "code",
   "execution_count": 22,
   "metadata": {},
   "outputs": [],
   "source": [
    "# Train model\n",
    "from pyspark.ml.clustering import KMeans\n",
    "from pyspark.ml.evaluation import ClusteringEvaluator\n",
    "\n",
    "kmeans = KMeans().setK(7).setSeed(1)\n",
    "model = kmeans.fit(query2)"
   ]
  },
  {
   "cell_type": "code",
   "execution_count": 23,
   "metadata": {},
   "outputs": [
    {
     "name": "stdout",
     "output_type": "stream",
     "text": [
      "+--------------------+-----------+--------+----------+\n",
      "|   Organization Name|Total Event|features|prediction|\n",
      "+--------------------+-----------+--------+----------+\n",
      "|      NJ Transit Bus|       8075|[8075.0]|         4|\n",
      "| Staten Island Ferry|         73|  [73.0]|         0|\n",
      "|Palisades Interst...|         91|  [91.0]|         0|\n",
      "|Bergen County Police|         23|  [23.0]|         0|\n",
      "| MTA Long Island Bus|          7|   [7.0]|         0|\n",
      "+--------------------+-----------+--------+----------+\n",
      "only showing top 5 rows\n",
      "\n"
     ]
    }
   ],
   "source": [
    "# Make a prediction\n",
    "predictions = model.transform(query2)\n",
    "predictions.show(5)"
   ]
  },
  {
   "cell_type": "code",
   "execution_count": 24,
   "metadata": {},
   "outputs": [
    {
     "name": "stdout",
     "output_type": "stream",
     "text": [
      "Silhouette with squared euclidean distance = 0.953533191302\n"
     ]
    }
   ],
   "source": [
    "# Evaluate clustering by computing Silhouette score\n",
    "evaluator = ClusteringEvaluator()\n",
    "\n",
    "silhouette = evaluator.evaluate(predictions)\n",
    "print(\"Silhouette with squared euclidean distance = \" + str(silhouette))"
   ]
  },
  {
   "cell_type": "code",
   "execution_count": 25,
   "metadata": {},
   "outputs": [
    {
     "name": "stdout",
     "output_type": "stream",
     "text": [
      "Cluster Centers: \n",
      "[290.39285714]\n",
      "[171157.]\n",
      "[38093.6]\n",
      "[115871.]\n",
      "[9481.66666667]\n",
      "[53591.]\n",
      "[22503.28571429]\n"
     ]
    }
   ],
   "source": [
    "# Shows the result\n",
    "centers = model.clusterCenters()\n",
    "print(\"Cluster Centers: \")\n",
    "for center in centers:\n",
    "    print(center)"
   ]
  },
  {
   "cell_type": "code",
   "execution_count": 26,
   "metadata": {
    "pixiedust": {
     "displayParams": {
      "aggregation": "COUNT",
      "handlerId": "barChart",
      "keyFields": "prediction",
      "valueFields": "Total Event"
     }
    }
   },
   "outputs": [
    {
     "data": {
      "text/html": [
       "<style type=\"text/css\">.pd_warning{display:none;}</style><div class=\"pd_warning\"><em>Hey, there's something awesome here! To see it, open this notebook outside GitHub, in a viewer like Jupyter</em></div>\n",
       "        <div class=\"pd_save is-viewer-good\" style=\"padding-right:10px;text-align: center;line-height:initial !important;font-size: xx-large;font-weight: 500;color: coral;\">\n",
       "            \n",
       "        </div>\n",
       "    <div id=\"chartFigure5aeb6fb1\" class=\"pd_save is-viewer-good\" style=\"overflow-x:auto\">\n",
       "            \n",
       "                    \n",
       "                            <center><img style=\"max-width:initial !important\" src=\"data:image/png;base64,iVBORw0KGgoAAAANSUhEUgAAAoMAAAHOCAYAAADjQAOhAAAABHNCSVQICAgIfAhkiAAAAAlwSFlzAAAOwwAADsMBx2+oZAAAADl0RVh0U29mdHdhcmUAbWF0cGxvdGxpYiB2ZXJzaW9uIDIuMS4yLCBodHRwOi8vbWF0cGxvdGxpYi5vcmcvNQv5yAAAIABJREFUeJzt3X14VPWd///XJBkgQ0IiuaPcaAhREHXlJtwooCThRnFFWuRGQAMUi7pWBN2VNipQCUVQq0CxaJd4dStcWJeVKKLLTYK6ISFpELWClBIElZAQiDTMiJPM+f3hl/k5hmiYmTgkn+fjuua6yDlnznnnUO3TMzNnbJZlWQIAAICRwkI9AAAAAEKHGAQAADBYRKgHANC6eDweff311+IdKK2PzWZTmzZtFBbGdQSgNSEGAQSFZVn67LPPVFlZGepR0MwSExPVtWtX2Wy2UI8CIAiIQQBBcS4Eu3XrpqioKEKhFbIsS7W1tTp69KgkqVu3biGeCEAwEIMAAubxeLwhmJiYGOpx0IwcDock6ejRo7LZbOratWuIJwIQKN74ASBgX3/9tSQpKioqxJPgx3Du73nLli3av39/iKcBEChiEEDAzn1YhJeGzfDtv+etW7fqxIkTIZwGQKCIQQCAX2JjY3XmzBl9+eWXoR4FQACIQQD4kXz11Vey2Wx67733Qj1KUNhsNoWFhamuri7UowAIAB8gAdBsbLZFP9qxLGtBk7f9oZez8/PzNXz48O/dZtWqVVq1alVQ3zP31VdfKTIy8rzrTp06pdjY2KAdqzG1tbWKjo7Wrl27NHjw4GY/HoDQIwYBGOfYsWPePz/55JMqLi7Wxo0bvcs6duwYirG8Nm3apIEDB/osi4mJCdE0AFo7XiYGYJxOnTp5H+3bt1ebNm18lrVp00aWZWnJkiXq0qWL2rVrpyFDhqisrEyS9NZbb+mXv/ylPvnkE9lsNtlsNhUVFenMmTOaNm2aunTpovbt22vgwIF69913L3i+jh07+szTqVMn2Ww2rV+/XomJiQ1elr388sv1+9//XpLkdrs1f/58de7cWdHR0crIyNDHH3/s3Xb+/PkaMWKEnnnmGSUlJSkxMVHZ2dne9ampqZKk6667TjabTffcc88Fzw+gZSEGAeA8cnNztXTpUj3zzDPas2ePLr/8ct1yyy1yOp3KyMjQkiVLlJqaqmPHjunYsWPq37+/3G63rr76ar355pvau3evRowYoVtvvVUnT54Mykxjx47VmTNnlJ+f711WVlam8vJy3X777ZKk7OxsFRQU6C9/+YvKysrUr18/jRo1SmfOnPE+Z/fu3dq3b5927typ3//+93ryySe1detWSVJRUZEkafPmzTp27JiWLVsWlNkBXLyIQQA4jxUrVujBBx/UpEmTdOWVV2rNmjXyeDxav3692rRpo+joaIWHh3uv3NntdsXGxmr+/Pm69tprlZqaqiVLluiSSy7Rtm3bLujYo0aNUlRUlPdx7bXXSpLat2+vW265RRs2bPBu+8orr2j48OFKSkrSP//5T61YsUJ//vOfNWTIEF1++eVavny5wsPDtWXLFu9zHA6HVq9erV69emnChAkaMmSIdu7cKUmKj4+X9P9fnezQoUOgpxLARY73DALAeRw4cMDnAxRt27ZVv3799MknnzT6HMuytHTpUq1bt06fffaZ3G63XC6X9+vbmio3N1f9+/f3/tymTRvvnydPnqxZs2bp+eefl91u11/+8hfNnz/fO/PZs2fVp08fn/25XC4dOnTI+3PPnj1lt9u9P3fq1InvlAYMRgwCwHecu4n2hfrP//xPLVu2TCtXrtQ111yj9u3ba8yYMXK73Re0ny5dunjfu/ddY8aMUV1dnbZu3aqEhAQdPXpU48ePl/TNJ4EladeuXQ0+lRwXF+f987dDUPrm09Uej+eCZgTQehCDAPAdNptNV1xxhYqKijRmzBhJ0tmzZ1VWVqYJEyZI+iao6uvrfZ5XVFSk0aNHa9q0aZKkL7/8Up9//nlQZ2vXrp1uu+02bdiwQYmJiRoxYoT3089XXXWVwsPDVVFRoZEjR/q1/3Oh+N3fDUDrxXsGAeA85syZo2effVavvPKK9u/fr9mzZyssLEyTJ0+WJF122WX67LPP9P777+vEiROqq6tTjx499M4776iwsFAfffSR7rzzToWFXfi/Zk+ePKmKigqfx7c/QTxp0iS99tpreuWVV7zzSN+832/27NmaNWuWXnvtNZWXl6uwsFCPPPKI/v73vzfp2G3btlVSUpK2b9+uyspKnw+eAGiduDIIAOcxffp0ffHFF5o7d65OnDihtLQ0bd68WQ6HQ5I0cuRIjRs3TjfeeKNOnz6tXbt26YEHHlBZWZlGjRqlmJgYZWdn64svvrjgY992220Nlu3Zs8f7XsDRo0crPDxcx48fb7Dtc889p8TERD344IP64osv1KlTJ2VkZOiSSy5p8vGfeuop/frXv9aiRYt099136w9/+MMF/w4AWg6b5e+bYwDg/3G5XPr444/Vu3fvRr9BA63Hub/v8vJyHTp0SLfddpt69uwZ6rEA+ImXiQEAAAxGDAIAABiMGAQAADAYMQgAAGAwYhBAwGw2myT/b9aMloW/Z6B1IQYBBOzc16Wd+wYMtG7n/p4v9JtVAFycuM8ggICFhYUpMTHR+x28UVFR3quFaD0sy1Jtba2OHj2qkydPcoUQaCWIQQBB0bVrV0nyBiFar5MnT6qqqkqWZcmyrAbfdQygZSEGAQSFzWZTt27d9Nlnn2n37t2Kj49X27ZtQz0WgsztdnsjsKKiQjExMRf07SYALj7EIICgGjBggGpra/X+++/L4/GEehw0o5iYGI0ZM4YYBFo4vo4OQNDV1dWpoqJCZ86c4X1lrZTdblfHjh0JQaAVIAYBAAAMxq1lAAAADEYMAgAAGIwYBAAAMBgxCAAAYDBiEAAAwGDEIAAAgMGIQQAAAIMRgwAAAAYjBgEAAAxGDAIAABiMGAQAADAYMQgAAGAwYhAAAMBgxCAAAIDBiEEAAACDEYMAAAAGIwYBAAAMFhHqAb6Px+NRTU2N2rVrJ5vNFupxAAAAWhTLsvTVV18pNjZWYWHnvwZ4UcdgTU2N4uLiQj0GAABAi1ZdXa2OHTued91FHYPt2rWT9M0vEBkZGeJpAAAAWhaXy6W4uDhvU53PRR2D514ajoyMJAYBAAD89H1vt+MDJAAAAAYjBgEAAAxGDAIAABiMGAQAADAYMQgAAGAwYhAAAMBgxCAAAIDBiEEAAACDEYMAAAAGIwYBAAAM1mgMbty4UZmZmYqJiZHNZlNdXd15tystLZXdbtfQoUN9ltfV1WnevHmKj49XdHS0srKyVFtbG9zpAQAAEJBGY9DpdCojI0Pz589v9Mkul0tZWVkaPnx4g3VPPPGE1q1bpw0bNmj79u0qLS3VfffdF5ShAQAAEBw2y7Ks79ugoKBA6enpcrvdioiI8Fn3wAMPyG63Kzo6Wtu2bdN7770nSfJ4PEpKStKSJUt09913S5J27NihUaNG6fjx44qLi2vScC6XSw6HQ06nU5GRkf78fgAAAMZqSkv5/Z7B7du3a+vWrcrJyWmw7tChQzpx4oQyMjK8y2688UZJ37ys3Bi32y2Xy+XzAAAAQPOJ+OFNGqqpqdGsWbO0fv16tWvXrsH6yspKSVJiYqJ3WXh4uDp27Ohddz45OTlatGiRPyNdEJut+Y8RDJa1INQjAACAVs6vK4Nz5szRpEmTNHjw4POu/4FXnhuVnZ0tp9PpfVRXV/u1HwAAADSNX1cGd+7cqc8++0xPPfWUpG/eI2hZliIiIvS3v/1NSUlJkr65QhgdHS1Jqq+v18mTJ32uFn6X3W6X3W73ZyQAAAD4wa8Y/N///V99/fXX3p9Xr16toqIi/elPf1L37t0VERGh+Ph45efnq0ePHpKkd955R5KUlpYWhLEBAAAQDI3G4MmTJ3XkyBEdPHhQkrR3716Fh4crNTVVV1xxhc+2iYmJcjgcuvrqq73L7r33Xj3++ONKSUlRVFSUHnjgAU2ZMqXJnyQGAABA82s0BvPy8jRjxgzvz+eu6OXn55/3voLf9fjjj6u2tlYTJkzQ119/rZ/+9KdavXp14BMDAAAgaH7wPoOh1Fz3GeTTxAAAwATNep9BAAAAtHzEIAAAgMGIQQAAAIMRgwAAAAYjBgEAAAxGDAIAABiMGAQAADAYMQgAAGAwYhAAAMBgxCAAAIDBiEEAAACDEYMAAAAGIwYBAAAMRgwCAAAYjBgEAAAwGDEIAABgMGIQAADAYMQgAACAwYhBAAAAgxGDAAAABiMGAQAADEYMAgAAGIwYBAAAMBgxCAAAYDBiEAAAwGDEIAAAgMGIQQAAAIMRgwAAAAYjBgEAAAxGDAIAABiMGAQAADAYMQgAAGAwYhAAAMBgxCAAAIDBiEEAAACDEYMAAAAGIwYBAAAMRgwCAAAYjBgEAAAwWKMxuHHjRmVmZiomJkY2m011dXXede+//74mTpyozp07q3379urbt69effXVBvtYunSpOnfuLIfDobFjx6qioqJ5fgsAAAD4pdEYdDqdysjI0Pz58xus27Nnj7p27aoNGzboww8/1IwZMzR58mQVFBR4t8nNzdXixYu1atUqFRYW6vTp05o0aVKz/BIAAADwj82yLOv7NigoKFB6errcbrciIiIa3W706NG66qqr9Mwzz0iS+vXrp5tvvlk5OTmSpEOHDqlHjx7as2eP+vTp06ThXC6XHA6HnE6nIiMjm/o7/SCbbVHQ9tWcLGtBqEcAAAAtWFNaKmjvGTxx4oQ6duwoSTp79qz27t2rjIwM7/qUlBQlJyeruLi40X243W65XC6fBwAAAJpPUGLwv//7v7Vv3z5NnTpVklRdXS2Px6PExESf7RISElRZWdnofnJycuRwOLyPuLi4YIwHAACARgQcg4WFhZoxY4b++Mc/qnv37pKkH3jluVHZ2dlyOp3eR3V1daDjAQAA4Hs0/ibAJigpKdGYMWO0fPlyTZkyxbs8Pj5eYWFhDa4CVlVVNbha+G12u112uz2QkQAAAHAB/L4yuGfPHo0ePVqPPvqoZs+e7bOubdu2uvbaa5Wfn+9dVl5ersOHD2vQoEH+TwsAAICgavTK4MmTJ3XkyBEdPHhQkrR3716Fh4crNTVVhw8f1siRI3XHHXdo2rRp3vsHRkZGKiYmRpJ0//33a86cOerfv79SUlI0d+5cDRs2rMmfJAYAAEDzazQG8/LyNGPGDO/PaWlpkqT8/HwVFBSourpaq1ev1urVq73bZGVl6aWXXpIkzZw5U8ePH9d9992nmpoajRgxQi+++GIz/RoAAADwxw/eZzCUuM8g9xkEAAD++1HvMwgAAICWhxgEAAAwGDEIAABgMGIQAADAYMQgAACAwYhBAAAAgxGDAAAABiMGAQAADEYMAgAAGIwYBAAAMBgxCAAAYDBiEAAAwGDEIAAAgMGIQQAAAIMRgwAAAAYjBgEAAAxGDAIAABiMGAQAADAYMQgAAGAwYhAAAMBgxCAAAIDBiEEAAACDEYMAAAAGIwYBAAAMRgwCAAAYjBgEAAAwGDEIAABgMGIQAADAYMQgAACAwYhBAAAAgxGDAAAABiMGAQAADEYMAgAAGIwYBAAAMBgxCAAAYDBiEAAAwGDEIAAAgMGIQQAAAIM1GoMbN25UZmamYmJiZLPZVFdX57P+wIEDSk9PV2RkpJKTk7V27Vqf9XV1dZo3b57i4+MVHR2trKws1dbWNs9vAQAAAL80GoNOp1MZGRmaP39+g3Vut1u33HKL4uPjVVJSoscee0yzZ8/W9u3bvds88cQTWrdunTZs2KDt27ertLRU9913X/P8FgAAAPCLzbIs6/s2KCgoUHp6utxutyIiIiRJeXl5mjhxoqqqqhQdHS1Juuuuu3T69Gm99tpr8ng8SkpK0pIlS3T33XdLknbs2KFRo0bp+PHjiouLa9JwLpdLDodDTqdTkZGRgfyePmy2RUHbV3OyrAWhHgEAALRgTWkpv94zuHv3bg0YMMAbgpKUmZmp4uJiSdKhQ4d04sQJZWRkeNffeOONkqTS0tJG9+t2u+VyuXweAAAAaD5+xWBlZaUSExN9liUkJKiqqsq7XpLPNuHh4erYsaN33fnk5OTI4XB4H029gggAAAD/+BWDP/DK8g+ub0x2dracTqf3UV1d7dd+AAAA0DR+xWBSUlKDK3xVVVVKSEjwrpfks019fb1OnjzZ4Irit9ntdkVGRvo8AAAA0Hz8isGBAweqtLTU51YxO3bs0KBBgyRJKSkpio+PV35+vnf9O++8I0lKS0sLZF4AAAAEUURjK06ePKkjR47o4MGDkqS9e/cqPDxcqampuummm9SlSxfNnDlTCxYsUHFxsdavX68tW7ZIksLCwnTvvffq8ccfV0pKiqKiovTAAw9oypQpvA8QAADgItJoDObl5WnGjBnen89d0cvPz9fw4cO1efNmzZ49W/3791dSUpKef/55ZWZmerd//PHHVVtbqwkTJujrr7/WT3/6U61evboZfxUAAABcqB+8z2AocZ9B7jMIAAD812z3GQQAAEDrQAwCAAAYjBgEAAAwGDEIAABgMGIQAADAYMQgAACAwYhBAAAAgxGDAAAABiMGAQAADEYMAgAAGIwYBAAAMBgxCAAAYDBiEAAAwGDEIAAAgMGIQQAAAIMRgwAAAAYjBgEAAAxGDAIAABiMGAQAADAYMQgAAGAwYhAAAMBgxCAAAIDBiEEAAACDEYMAAAAGIwYBAAAMRgwCAAAYjBgEAAAwGDEIAABgMGIQAADAYMQgAACAwYhBAAAAgxGDAAAABiMGAQAADEYMAgAAGIwYBAAAMBgxCAAAYDBiEAAAwGDEIAAAgMECisGamhr9/Oc/V6dOnRQVFaXrr79e77zzjnd9cXGx0tLS1K5dO/Xq1UtvvPFGwAMDAAAgeAKKwXnz5qmkpESvvfaa9u7dq4EDB+pf//VfderUKVVXV+vmm2/W4MGDVVZWpqysLI0fP1779+8P1uwAAAAIkM2yLMvfJ1911VW6++679eCDD0qS/vnPf6pDhw7atWuXdu/erWXLluno0aOy2WySpBtuuEH9+vXTs88+26T9u1wuORwOOZ1ORUZG+jtmAzbboqDtqzlZ1oJQjwAAAFqwprRUQFcGr7vuOm3atEknTpxQfX291q5dq86dO+vqq6/W7t27lZ6e7g1BScrMzFRxcXGj+3O73XK5XD4PAAAANJ+AYnDlypWKj49XQkKC2rZtq9/+9rfavHmzoqKiVFlZqcTERJ/tExISVFlZ2ej+cnJy5HA4vI+4uLhAxgMAAMAPCCgGn3vuOf3973/X1q1bVVJSojvuuENjx45VdXW1/Hn1OTs7W06n0/uorq4OZDwAAAD8gAh/n+hyufT4449r27ZtuuGGGyRJffv21ebNm7Vu3TolJSU1uApYVVXV4Grht9ntdtntdn9HAgAAwAXy+8qg2+2W2+1WeHi47w7DwuTxeDRw4EAVFBT4XCHcsWOHBg0a5P+0AAAACCq/Y7BDhw4aMmSI5s2bp+LiYh08eFCPPvqoysvLNWrUKE2dOlVnzpzRnDlztG/fPj355JMqKirSPffcE8z5AQAAEICA3jO4YcMGpaSkaOzYserTp4/efvtt/c///I+uvPJKxcXF6c0331RhYaH69Omj3Nxcvfrqq+rVq1ewZgcAAECAArrPYHPjPoPcZxAAAPiv2e8zCAAAgJaNGAQAADAYMQgAAGAwYhAAAMBgxCAAAIDBiEEAAACDEYMAAAAGIwYBAAAMRgwCAAAYjBgEAAAwGDEIAABgMGIQAADAYMQgAACAwYhBAAAAgxGDAAAABiMGAQAADEYMAgAAGIwYBAAAMBgxCAAAYDBiEAAAwGDEIAAAgMGIQQAAAIMRgwAAAAYjBgEAAAxGDAIAABiMGAQAADAYMQgAAGAwYhAAAMBgxCAAAIDBiEEAAACDEYMAAAAGIwYBAAAMRgwCAAAYjBgEAAAwGDEIAABgMGIQAADAYMQgAACAwYhBAAAAgwUcg2VlZcrMzJTD4dAll1yiiRMnetcVFxcrLS1N7dq1U69evfTGG28EejgAAAAEUUAxuG/fPmVkZGjo0KEqKSlRYWGhJk+eLEmqrq7WzTffrMGDB6usrExZWVkaP3689u/fH5TBAQAAEDibZVmWv08eP368OnTooNzc3AbrVqxYoWXLluno0aOy2WySpBtuuEH9+vXTs88+26T9u1wuORwOOZ1ORUZG+jtmAzbboqDtqzlZ1oJQjwAAAFqwprSU31cG6+vr9dZbb6l79+4aPny4kpKSNHLkSH3wwQeSpN27dys9Pd0bgpKUmZmp4uJifw8JAACAIPM7BquqquR0OrV8+XLdcccd2rJli7p166bMzEx9+eWXqqysVGJios9zEhISVFlZ2eg+3W63XC6XzwMAAADNx+8Y9Hg8kqTbb79ds2fPVr9+/bRmzRrZbDbl5eXJn1efc3Jy5HA4vI+4uDh/xwMAAEAT+B2D8fHxCg8PV8+ePb3L7Ha7UlJSdPToUSUlJTW4ClhVVdXgauG3ZWdny+l0eh/V1dX+jgcAAIAmiPD3iW3atFHfvn118OBB77K6ujodPnxYl156qaKiorR8+XJZluV93+COHTs0aNCgRvdpt9tlt9v9HQkAAAAXKKBby8ydO1cvv/yyXn75ZR04cEAPPvigJGns2LGaOnWqzpw5ozlz5mjfvn168sknVVRUpHvuuScogwMAACBwfl8ZlKQpU6aoqqpKv/rVr3Tq1CmlpaVp27Zt6tChgyTpzTff1P333681a9aoe/fuevXVV9WrV6+gDA4AAIDABXSfwebGfQa5zyAAAPBfs95nEAAAAC0fMQgAAGAwYhAAAMBgxCAAAIDBiEEAAACDEYMAAAAGIwYBAAAMRgwCAAAYjBgEAAAwGDEIAABgMGIQAADAYMQgAACAwYhBAAAAgxGDAAAABiMGAQAADEYMAgAAGIwYBAAAMBgxCAAAYDBiEAAAwGDEIAAAgMGIQQAAAIMRgwAAAAYjBgEAAAxGDAIAABiMGAQAADAYMQgAAGAwYhAAAMBgxCAAAIDBiEEAAACDEYMAAAAGIwYBAAAMRgwCAAAYjBgEAAAwGDEIAABgMGIQAADAYMQgAACAwYhBAAAAgxGDAAAABiMGAQAADBa0GBw3bpxsNpu2bdvmXVZcXKy0tDS1a9dOvXr10htvvBGswwEAACAIghKDubm5crlcPsuqq6t18803a/DgwSorK1NWVpbGjx+v/fv3B+OQAAAACIKIQHfw6aefasGCBSosLFS3bt28y19++WU5HA6tXLlSNptNvXv31pYtW/SHP/xBzz77bKCHBQAAQBAEFIMej0dZWVlatGiRunbt6rNu9+7dSk9Pl81m8y7LzMzUW2+91ej+3G636urqvD9/92ojAAAAgiugl4l/97vfKSoqSjNmzGiwrrKyUomJiT7LEhISVFlZ2ej+cnJy5HA4vI+4uLhAxgMAAMAP8DsG9+3bp6efflovvPDCeddblnXB+8zOzpbT6fQ+qqur/R0PAAAATeD3y8TFxcWqqKjQpZde6rN89OjRmjx5spKSkhpcBayqqmpwtfDb7Ha77Ha7vyMBAADgAvkdg+PGjVNaWprPsmuuuUZr1qzRTTfdpI0bN2r58uWyLMv7vsEdO3Zo0KBBgU0MAACAoPE7BmNjYxUbG9tgeXJysrp27aqpU6dq4cKFmjNnju69917l5eWpqKhIa9asCWhgAAAABE+zfQNJXFyc3nzzTRUWFqpPnz7Kzc3Vq6++ql69ejXXIQEAAHCBAr7P4Ld990MjgwcPVmlpaTAPAQAAgCDiu4kBAAAMRgwCAAAYjBgEAAAwGDEIAABgMGIQAADAYMQgAACAwYhBAAAAgxGDAAAABiMGAQAADEYMAgAAGIwYBAAAMBgxCAAAYDBiEAAAwGDEIAAAgMGIQQAAAIMRgwAAAAYjBgEAAAxGDAIAABiMGAQAADAYMQgAAGAwYhAAAMBgxCAAAIDBiEEAAACDEYMAAAAGIwYBAAAMRgwCAAAYjBgEAAAwGDEIAABgMGIQAADAYMQgAACAwYhBAAAAgxGDAAAABiMGAQAADEYMAgAAGIwYBAAAMBgxCAAAYDBiEAAAwGDEIAAAgMH8jsElS5aoX79+ioqK0k9+8hPNmDFDVVVVPtscOHBA6enpioyMVHJystauXRvwwAAAAAgev2Pwvffe07x581RaWqpNmzbp448/1qRJk7zr3W63brnlFsXHx6ukpESPPfaYZs+ere3btwdlcAAAAATOZlmWFYwd7dq1S9dff71qamoUExOjvLw8TZw4UVVVVYqOjpYk3XXXXTp9+rRee+21Ju3T5XLJ4XDI6XQqMjIyGGNKkmy2RUHbV3OyrAWhHgEAALRgTWmpoL1n8MSJE2rXrp3at28vSdq9e7cGDBjgDUFJyszMVHFxcaP7cLvdcrlcPg8AAAA0n6DE4NmzZ/Wb3/xGWVlZioiIkCRVVlYqMTHRZ7uEhIQG7yv8tpycHDkcDu8jLi4uGOMBAACgEQHHYH19vaZNmyZJeuqpp7zL/Xn1OTs7W06n0/uorq4OdDwAAAB8j4hAnuzxeDR9+nTt379fO3fuVFRUlHddUlKS9u/f77N9VVWVEhISGt2f3W6X3W4PZCQAAABcAL+vDFqWpVmzZqmoqEhbt25Vx44dfdYPHDhQpaWlqq2t9S7bsWOHBg0a5P+0AAAACCq/rwzec889ev3117V582ZJUkVFhaRv3hcYHh6um266SV26dNHMmTO1YMECFRcXa/369dqyZUtwJgcAAEDA/I7BF154QZIaXOkrLy9XcnKy2rRpo82bN2v27Nnq37+/kpKS9PzzzyszMzOwiQEAABA0fsdgUz4g0rNnTxUUFPh7CAAAADQzvpsYAADAYMQgAACAwYhBAAAAgxGDAAAABiMGAQAADEYMAgAAGIwYBAAAMBgxCAAAYDBiEAAAwGDEIAAAgMGIQQAAAIMRgwAAAAYjBgEAAAxGDAIAABiMGAQAADAYMQgAAGAwYhAYnsGFAAAOMUlEQVQAAMBgxCAAAIDBiEEAAACDEYMAAAAGiwj1AACAlstmWxTqEZrEshaEegTgosWVQQAAAIMRgwAAAAYjBgEAAAxGDAIAABiMD5AAAIBWjQ86fT+uDAIAABiMGAQAADAYMQgAAGAwYhAAAMBgfIAEuEjxhmcAwI+BK4MAAAAGIwYBAAAMRgwCAAAYjBgEAAAwGB8gAWAMPpQDAA1xZRAAAMBgxCAAAIDBfpSXiZcuXaoVK1aopqZGI0aM0AsvvKBOnTr9GIcGAKBF4e0M+LE1+5XB3NxcLV68WKtWrVJhYaFOnz6tSZMmNfdhAQAA0ATNfmVw5cqVmjNnjn72s59JktauXasePXro/fffV58+fZr78PiR8F+yAAC0TM16ZfDs2bPau3evMjIyvMtSUlKUnJys4uLi5jw0AAAAmqBZrwxWV1fL4/EoMTHRZ3lCQoIqKysbbO92u1VXV+f92el0SpJcLleQJ3MHeX/NI/i/d3PinAYf5zT4OKfBxzkNPs5p8Jl7Ts/t07KsRrdp1hj8vgOfT05OjhYtavhyY1xcXLBGalEcjpxQj9DqcE6Dj3MafJzT4OOcBh/nNPia85x+9dVXcjgc513XrDEYHx+vsLCwBlcBq6qqGlwtlKTs7Gw98sgj3p89Ho9qa2sVHR0tm83WnKMGxOVyKS4uTtXV1YqMjAz1OK0C5zT4OKfBxzkNPs5p8HFOg68lnVPLsvTVV18pNja20W2aNQbbtm2ra6+9Vvn5+crMzJQklZeX6/Dhwxo0aFCD7e12u+x2u8+y9u3bN+eIQRUZGXnR/4+ipeGcBh/nNPg4p8HHOQ0+zmnwtZRz2tgVwXOa/dPE999/v+bMmaP+/fsrJSVFc+fO1bBhw/gkMQAAwEWg2WNw5syZOn78uO677z7vTadffPHF5j4sAAAAmiB84cKFC5v7IMOGDdPDDz+sRx99VFOmTFFUVFRzH/JHFxYWpuHDhys8PDzUo7QanNPg45wGH+c0+Dinwcc5Db7WdE5t1oV+5BcAAACtRrN/HR0AAAAuXsQgAACAwYhBAAAAgxGDQbB06VJ17txZDodDY8eOVUVFRahHarE2btyozMxMxcTEyGaz+Xw9IfyzZMkS9evXT1FRUfrJT36iGTNmqKqqKtRjtWhLly5Vr1695HA4FBcXp7Fjx+rAgQOhHqtVGTdunGw2m7Zt2xbqUVqshQsXymaz+TzGjRsX6rFahbKyMmVmZsrhcOiSSy7RxIkTQz1SQIjBAOXm5mrx4sVatWqVCgsLdfr0aU2aNCnUY7VYTqdTGRkZmj9/fqhHaTXee+89zZs3T6Wlpdq0aZM+/vhj/jcaoB49emjVqlX629/+ph07dig8PFy33HJLqMdqNXJzc1vY995evAYOHKhjx455Hy+99FKoR2rx9u3bp4yMDA0dOlQlJSUqLCzU5MmTQz1WQPg0cYD69eunm2++WTk533yf4KFDh9SjRw/t2bOHG2sHoKCgQOnp6XK73YqIaPbbYRpl165duv7661VTU6OYmJhQj9MqfPjhh/qXf/kXVVRUKCkpKdTjtGiffvqphg0bpsLCQnXr1k1bt27ViBEjQj1Wi7Rw4UJt27ZN7733XqhHaVXGjx+vDh06KDc3N9SjBA1XBgNw9uxZ7d27VxkZGd5lKSkpSk5OVnFxcQgnAxp34sQJtWvXrkV91ePFzOVy6aWXXlLPnj2VkJAQ6nFaNI/Ho6ysLC1atEhdu3YN9Titwt69e9WpUyddccUV+rd/+zedOnUq1CO1aPX19XrrrbfUvXt3DR8+XElJSRo5cqQ++OCDUI8WEGIwANXV1fJ4PEpMTPRZnpCQoMrKyhBNBTTu7Nmz+s1vfqOsrCyuuAbojTfeUFRUlNq3b6/Nmzdry5YtCgvjX6mB+N3vfqeoqCjNmDEj1KO0CoMHD9af/vQnbd26VU8//bR27typ2267Tbwg6L+qqio5nU4tX75cd9xxh7Zs2aJu3bopMzNTX375ZajH8xv/bxAA/oFCS1JfX69p06ZJkp566qkQT9Pypaen6/3331dFRYWefvpp3XHHHXr33Xdlt9tDPVqLtG/fPj399NMqLS0N9Sitxk033eT98zXXXKPevXsrNTVVf/3rX5WWlhbCyVouj8cjSbr99ts1e/ZsSdKaNWv0xhtvKC8vT3feeWcox/Mb/xkbgPj4eIWFhTW4ClhVVdXgaiEQSh6PR9OnT9f+/fv19ttvt8qvhPyxtW/fXqmpqRo6dKg2bNigDz/8UFu2bAn1WC1WcXGxKioqdOmllyoiIsJ75Xr06NGaOnVqiKdrHXr06KHY2FiVl5eHepQWKz4+XuHh4erZs6d3md1uV0pKio4ePRrCyQLDlcEAtG3bVtdee63y8/OVmZkpSSovL9fhw4c1aNCgEE8HfMOyLM2aNUtFRUV699131bFjx1CP1CpZlsVL7wEYN25cg6tV11xzjdasWeNzhQv+O3LkiGpqapScnBzqUVqsNm3aqG/fvjp48KB3WV1dnQ4fPqxLL700hJMFhn9zBej+++/XnDlz1L9/f6WkpGju3LkaNmwYnyT208mTJ3XkyBHvP2h79+5VeHi4UlNTuZrlp3vuuUevv/66Nm/eLEne+2AmJCS0ii9YD4VHHnlE48aNU+fOnXX8+HEtXbpU8fHxGjJkSKhHa7FiY2MVGxvbYHlycjIfJvHTf/zHf2js2LHq2rWrysvL9e///u+67rrr1L9//1CP1qLNnTtXP//5z5Wenq4BAwZoxYoVkqSxY8eGeDL/EYMBmjlzpo4fP6777rtPNTU1GjFihF588cVQj9Vi5eXl+bx5/NyVgvz8fA0fPjxEU7VsL7zwgiQ1uFpdXl7OFQI/HTlyRBMmTFBVVZUSEhI0bNgwbd++nVv14KLy6aefasKECaqurlbnzp01evRoLV68mA86BWjKlCmqqqrSr371K506dUppaWnatm2bOnToEOrR/MZ9BgEAAAzGfx4AAAAYjBgEAAAwGDEIAABgMGIQAADAYMQgAACAwYhBAAAAgxGDAAAABiMGAQAADEYMAkATTJs2TdOnT/f+nJycrD/+8Y9+72/hwoUaOnRoECYDgMAQgwDgh5KSEk2dOrVJ2w4dOlQLFy70Wfbwww8rLy+vGSYDgAvDdxMDMIbb7VZERIRsNlvA+0pISAjo+VFRUQHPAADBwJVBAC3a8OHD9fDDDysrK0vt27fXZZddpldeeUWSVFBQIJvNprfeektXXXWVIiMjVV1dLUlasWKFUlJS5HA4NGDAABUUFPjsd+XKlUpKSlJMTIweeughffdr3L/7MvE//vEP3XbbberQoYNiYmI0YsQInTp1StOnT9f//d//adGiRbLZbEpOTpbU8GXiM2fOaNasWbrkkksUFRWl8ePH6/jx497106dP17Rp0/Too4+qY8eO6ty5s5555plgnkoAhiIGAbR4a9asUWpqqsrKyvSLX/xCU6dO1cGDB73rFy1apBdffFEffvihOnTooLVr1+q5557T6tWr9dFHH+muu+7SmDFjdPjwYUnSzp07NW/ePC1atEjFxcVyuVzf+5Lu2bNnNWrUKHk8HuXn56u4uFg/+9nPVF9fr+eee04DBw7UQw89pGPHjqmkpOS8+5g7d6527typTZs26Z133tHnn3+uO++802ebvLw8ud1uFRUVaeHChXrooYf0wQcfBH4CAZjNAoAW7MYbb7QGDRrks2zIkCHWQw89ZOXn51uSrIKCAp/13bt3t15//XWfZSNHjrSeeOIJy7Isa+LEidakSZO869xut9WlSxcrKyvLu+yyyy6zXnzxRcuyLGvt2rVWQkKCdebMmfPOOGTIEGvBggU+yxYsWGANGTLEsizLOn36tBUREWFt3rzZu37fvn2WJOujjz6yLMuysrKyrN69e/vs44orrrBWrlx53mMCQFNxZRBAizdw4MAGP3/yySfen/v27ev9c21trcrLyzVp0iRFRUV5H/n5+Tp06JAk6ZNPPvHZZ0REhPr169fo8T/66CMNHDhQDofDr/kPHTqkuro6DR482LusV69eio2N9fk9rr76ap/nderUSZWVlX4dEwDO4QMkAFq8H/pAyLcj7cyZM5KkdevW6aqrrvLZLjo6WpJkWdYFfcjE+s77CS9UU59vt9t9frbZbPJ4PAEdGwC4Mgigxdu9e7fPzyUlJerZs+d5t01MTFSnTp105MgRpaam+jySkpIkST179vTZZ319vfbs2dPo8a+55hqVlJTI6XSed73dbld9fX2jz+/Ro4ciIiJUVFTkXbZ//37V1NSoV69ejT4PAIKBGATQ4n300UfKycnRgQMH9Nvf/la7du3S7Nmzz7utzWbTr3/9az322GPKzc3VP/7xD5WWlmrp0qXasWOHJOnee+/Vq6++qhdeeEGffPKJ5syZo5qamkaPP2XKFEVFRWnSpEn661//qgMHDmjNmjU6ceKEJOmyyy5TUVGRPv/8c506darB86OjozVz5kw9+OCDevfdd1VWVqbp06dr5MiR6t27dxDOEAA0jhgE0OL94he/0Mcff6y+fftq9erV+vOf/6zLL7+80e1/+ctfatmyZVq2bJmuvPJK3Xrrrdq9e7e6dOkiSUpPT9dTTz2lRx99VAMGDFBERITGjh3b6P7atm2rt99+Wx6PRzfccIMGDBigjRs3KiLim3fiPPzww6qurlZKSorP+xe/7emnn9awYcN066236oYbblCXLl30X//1XwGcFQBoGpsV6JtdACCEhg8frqFDh2rx4sWhHgUAWiSuDAIAABiMGAQAADAYLxMDAAAYjCuDAAAABiMGAQAADEYMAgAAGOz/A9tpvHtbhfxRAAAAAElFTkSuQmCC\" class=\"pd_save\"></center>\n",
       "                        \n",
       "                    \n",
       "                \n",
       "        </div>"
      ],
      "text/plain": [
       "<IPython.core.display.HTML object>"
      ]
     },
     "metadata": {},
     "output_type": "display_data"
    }
   ],
   "source": [
    "display(predictions)"
   ]
  },
  {
   "cell_type": "markdown",
   "metadata": {},
   "source": [
    "![cluster](img/cluster-2.png)"
   ]
  }
 ],
 "metadata": {
  "kernelspec": {
   "display_name": "Python 2",
   "language": "python",
   "name": "python2"
  },
  "language_info": {
   "codemirror_mode": {
    "name": "ipython",
    "version": 2
   },
   "file_extension": ".py",
   "mimetype": "text/x-python",
   "name": "python",
   "nbconvert_exporter": "python",
   "pygments_lexer": "ipython2",
   "version": "2.7.14"
  }
 },
 "nbformat": 4,
 "nbformat_minor": 2
}
