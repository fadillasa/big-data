{
 "cells": [
  {
   "cell_type": "markdown",
   "metadata": {},
   "source": [
    "## Spark Initialization"
   ]
  },
  {
   "cell_type": "code",
   "execution_count": 1,
   "metadata": {},
   "outputs": [],
   "source": [
    "# Call findspark\n",
    "import findspark\n",
    "findspark.init()"
   ]
  },
  {
   "cell_type": "code",
   "execution_count": 2,
   "metadata": {},
   "outputs": [],
   "source": [
    "# Import required library\n",
    "from pyspark.sql import SparkSession\n",
    "\n",
    "# Create Spark Session\n",
    "spark = SparkSession \\\n",
    "    .builder \\\n",
    "    .appName(\"Python Spark SQL basic example\") \\\n",
    "    .getOrCreate()"
   ]
  },
  {
   "cell_type": "code",
   "execution_count": 3,
   "metadata": {},
   "outputs": [
    {
     "name": "stdout",
     "output_type": "stream",
     "text": [
      "<pyspark.sql.session.SparkSession object at 0x0000000006E4F198>\n"
     ]
    }
   ],
   "source": [
    "# Print Spark object ID\n",
    "print(spark)"
   ]
  },
  {
   "cell_type": "markdown",
   "metadata": {},
   "source": [
    "## Loading Data using Spark"
   ]
  },
  {
   "cell_type": "code",
   "execution_count": 4,
   "metadata": {},
   "outputs": [],
   "source": [
    "# Datasets can be downloaded from https://www.kaggle.com/carrie1/ecommerce-data/home\n",
    "df = spark.read.csv(\"D:/TC/6BigData/Dataset/ecommerce-data/data.csv\", header=True, inferSchema=True)"
   ]
  },
  {
   "cell_type": "code",
   "execution_count": 5,
   "metadata": {},
   "outputs": [
    {
     "name": "stdout",
     "output_type": "stream",
     "text": [
      "+---------+---------+--------------------+--------+--------------+---------+----------+--------------+\n",
      "|InvoiceNo|StockCode|         Description|Quantity|   InvoiceDate|UnitPrice|CustomerID|       Country|\n",
      "+---------+---------+--------------------+--------+--------------+---------+----------+--------------+\n",
      "|   536365|   85123A|WHITE HANGING HEA...|       6|12/1/2010 8:26|     2.55|     17850|United Kingdom|\n",
      "|   536365|    71053| WHITE METAL LANTERN|       6|12/1/2010 8:26|     3.39|     17850|United Kingdom|\n",
      "|   536365|   84406B|CREAM CUPID HEART...|       8|12/1/2010 8:26|     2.75|     17850|United Kingdom|\n",
      "|   536365|   84029G|KNITTED UNION FLA...|       6|12/1/2010 8:26|     3.39|     17850|United Kingdom|\n",
      "|   536365|   84029E|RED WOOLLY HOTTIE...|       6|12/1/2010 8:26|     3.39|     17850|United Kingdom|\n",
      "|   536365|    22752|SET 7 BABUSHKA NE...|       2|12/1/2010 8:26|     7.65|     17850|United Kingdom|\n",
      "|   536365|    21730|GLASS STAR FROSTE...|       6|12/1/2010 8:26|     4.25|     17850|United Kingdom|\n",
      "|   536366|    22633|HAND WARMER UNION...|       6|12/1/2010 8:28|     1.85|     17850|United Kingdom|\n",
      "|   536366|    22632|HAND WARMER RED P...|       6|12/1/2010 8:28|     1.85|     17850|United Kingdom|\n",
      "|   536367|    84879|ASSORTED COLOUR B...|      32|12/1/2010 8:34|     1.69|     13047|United Kingdom|\n",
      "|   536367|    22745|POPPY'S PLAYHOUSE...|       6|12/1/2010 8:34|      2.1|     13047|United Kingdom|\n",
      "|   536367|    22748|POPPY'S PLAYHOUSE...|       6|12/1/2010 8:34|      2.1|     13047|United Kingdom|\n",
      "|   536367|    22749|FELTCRAFT PRINCES...|       8|12/1/2010 8:34|     3.75|     13047|United Kingdom|\n",
      "|   536367|    22310|IVORY KNITTED MUG...|       6|12/1/2010 8:34|     1.65|     13047|United Kingdom|\n",
      "|   536367|    84969|BOX OF 6 ASSORTED...|       6|12/1/2010 8:34|     4.25|     13047|United Kingdom|\n",
      "|   536367|    22623|BOX OF VINTAGE JI...|       3|12/1/2010 8:34|     4.95|     13047|United Kingdom|\n",
      "|   536367|    22622|BOX OF VINTAGE AL...|       2|12/1/2010 8:34|     9.95|     13047|United Kingdom|\n",
      "|   536367|    21754|HOME BUILDING BLO...|       3|12/1/2010 8:34|     5.95|     13047|United Kingdom|\n",
      "|   536367|    21755|LOVE BUILDING BLO...|       3|12/1/2010 8:34|     5.95|     13047|United Kingdom|\n",
      "|   536367|    21777|RECIPE BOX WITH M...|       4|12/1/2010 8:34|     7.95|     13047|United Kingdom|\n",
      "+---------+---------+--------------------+--------+--------------+---------+----------+--------------+\n",
      "only showing top 20 rows\n",
      "\n"
     ]
    }
   ],
   "source": [
    "df.show()"
   ]
  },
  {
   "cell_type": "code",
   "execution_count": 6,
   "metadata": {},
   "outputs": [
    {
     "data": {
      "text/plain": [
       "541909"
      ]
     },
     "execution_count": 6,
     "metadata": {},
     "output_type": "execute_result"
    }
   ],
   "source": [
    "df.count()"
   ]
  },
  {
   "cell_type": "code",
   "execution_count": 7,
   "metadata": {},
   "outputs": [
    {
     "name": "stdout",
     "output_type": "stream",
     "text": [
      "root\n",
      " |-- InvoiceNo: string (nullable = true)\n",
      " |-- StockCode: string (nullable = true)\n",
      " |-- Description: string (nullable = true)\n",
      " |-- Quantity: integer (nullable = true)\n",
      " |-- InvoiceDate: string (nullable = true)\n",
      " |-- UnitPrice: double (nullable = true)\n",
      " |-- CustomerID: integer (nullable = true)\n",
      " |-- Country: string (nullable = true)\n",
      "\n"
     ]
    }
   ],
   "source": [
    "df.printSchema()"
   ]
  },
  {
   "cell_type": "code",
   "execution_count": 8,
   "metadata": {},
   "outputs": [],
   "source": [
    "df_items = df.selectExpr(['InvoiceNo as id','StockCode as items', 'Description'])"
   ]
  },
  {
   "cell_type": "code",
   "execution_count": 9,
   "metadata": {},
   "outputs": [],
   "source": [
    "df = df.selectExpr(['InvoiceNo as id','StockCode as items'])"
   ]
  },
  {
   "cell_type": "code",
   "execution_count": 10,
   "metadata": {},
   "outputs": [
    {
     "name": "stdout",
     "output_type": "stream",
     "text": [
      "+------+------+\n",
      "|    id| items|\n",
      "+------+------+\n",
      "|536365|85123A|\n",
      "|536365| 71053|\n",
      "|536365|84406B|\n",
      "|536365|84029G|\n",
      "|536365|84029E|\n",
      "|536365| 22752|\n",
      "|536365| 21730|\n",
      "|536366| 22633|\n",
      "|536366| 22632|\n",
      "|536367| 84879|\n",
      "|536367| 22745|\n",
      "|536367| 22748|\n",
      "|536367| 22749|\n",
      "|536367| 22310|\n",
      "|536367| 84969|\n",
      "|536367| 22623|\n",
      "|536367| 22622|\n",
      "|536367| 21754|\n",
      "|536367| 21755|\n",
      "|536367| 21777|\n",
      "+------+------+\n",
      "only showing top 20 rows\n",
      "\n"
     ]
    }
   ],
   "source": [
    "df.show()"
   ]
  },
  {
   "cell_type": "code",
   "execution_count": 11,
   "metadata": {},
   "outputs": [
    {
     "name": "stdout",
     "output_type": "stream",
     "text": [
      "root\n",
      " |-- id: string (nullable = true)\n",
      " |-- items: string (nullable = true)\n",
      "\n"
     ]
    }
   ],
   "source": [
    "df.printSchema()"
   ]
  },
  {
   "cell_type": "code",
   "execution_count": 12,
   "metadata": {},
   "outputs": [
    {
     "name": "stdout",
     "output_type": "stream",
     "text": [
      "+------+------+--------------------+\n",
      "|    id| items|         Description|\n",
      "+------+------+--------------------+\n",
      "|536365|85123A|WHITE HANGING HEA...|\n",
      "|536365| 71053| WHITE METAL LANTERN|\n",
      "|536365|84406B|CREAM CUPID HEART...|\n",
      "|536365|84029G|KNITTED UNION FLA...|\n",
      "|536365|84029E|RED WOOLLY HOTTIE...|\n",
      "|536365| 22752|SET 7 BABUSHKA NE...|\n",
      "|536365| 21730|GLASS STAR FROSTE...|\n",
      "|536366| 22633|HAND WARMER UNION...|\n",
      "|536366| 22632|HAND WARMER RED P...|\n",
      "|536367| 84879|ASSORTED COLOUR B...|\n",
      "|536367| 22745|POPPY'S PLAYHOUSE...|\n",
      "|536367| 22748|POPPY'S PLAYHOUSE...|\n",
      "|536367| 22749|FELTCRAFT PRINCES...|\n",
      "|536367| 22310|IVORY KNITTED MUG...|\n",
      "|536367| 84969|BOX OF 6 ASSORTED...|\n",
      "|536367| 22623|BOX OF VINTAGE JI...|\n",
      "|536367| 22622|BOX OF VINTAGE AL...|\n",
      "|536367| 21754|HOME BUILDING BLO...|\n",
      "|536367| 21755|LOVE BUILDING BLO...|\n",
      "|536367| 21777|RECIPE BOX WITH M...|\n",
      "+------+------+--------------------+\n",
      "only showing top 20 rows\n",
      "\n"
     ]
    }
   ],
   "source": [
    "df_items.show()"
   ]
  },
  {
   "cell_type": "code",
   "execution_count": 13,
   "metadata": {},
   "outputs": [
    {
     "name": "stdout",
     "output_type": "stream",
     "text": [
      "root\n",
      " |-- id: string (nullable = true)\n",
      " |-- items: string (nullable = true)\n",
      " |-- Description: string (nullable = true)\n",
      "\n"
     ]
    }
   ],
   "source": [
    "df_items.printSchema()"
   ]
  },
  {
   "cell_type": "markdown",
   "metadata": {},
   "source": [
    "## Grouping Data"
   ]
  },
  {
   "cell_type": "code",
   "execution_count": 14,
   "metadata": {},
   "outputs": [],
   "source": [
    "# Group the Data according to the Id\n",
    "from pyspark.sql.functions import collect_list\n",
    "df_group = df.groupby(\"id\").agg(collect_list('items').alias('items'))"
   ]
  },
  {
   "cell_type": "code",
   "execution_count": 15,
   "metadata": {},
   "outputs": [
    {
     "name": "stdout",
     "output_type": "stream",
     "text": [
      "+-------+--------------------+\n",
      "|     id|               items|\n",
      "+-------+--------------------+\n",
      "| 536596|[21624, 22900, 22...|\n",
      "| 536938|[22386, 85099C, 2...|\n",
      "| 537252|             [22197]|\n",
      "| 537691|[22791, 22171, 82...|\n",
      "| 538041|             [22145]|\n",
      "| 538184|[22585, 21481, 22...|\n",
      "| 538517|[22491, 21232, 21...|\n",
      "| 538879|[84819, 22150, 21...|\n",
      "| 539275|[22909, 22423, 22...|\n",
      "| 539630|[21484, 85099B, 2...|\n",
      "| 540499|[21868, 22697, 22...|\n",
      "| 540540|[21877, 21868, 21...|\n",
      "| 540976|[22394, 21890, 22...|\n",
      "| 541432|[21485, 22457, 84...|\n",
      "| 541518|[21880, 21881, 21...|\n",
      "| 541783|[22423, 22854, 22...|\n",
      "| 542026|[21754, 82600, 22...|\n",
      "| 542375|[21731, 22367, 22...|\n",
      "|C540850|             [21231]|\n",
      "| 543641|[85123A, 21833, 2...|\n",
      "+-------+--------------------+\n",
      "only showing top 20 rows\n",
      "\n"
     ]
    }
   ],
   "source": [
    "df_group.show()"
   ]
  },
  {
   "cell_type": "markdown",
   "metadata": {},
   "source": [
    "## Removing Duplicates Data"
   ]
  },
  {
   "cell_type": "code",
   "execution_count": 16,
   "metadata": {},
   "outputs": [],
   "source": [
    "# Remove duplicates data\n",
    "from pyspark.sql.functions import udf\n",
    "from pyspark.sql.types import ArrayType, StringType\n",
    "\n",
    "distinct = udf(lambda row: list(set(row)), ArrayType(StringType()))\n",
    "df_group = df_group.withColumn(\"distinct_items\", distinct(\"items\"))"
   ]
  },
  {
   "cell_type": "code",
   "execution_count": 17,
   "metadata": {},
   "outputs": [
    {
     "name": "stdout",
     "output_type": "stream",
     "text": [
      "+-------+--------------------+--------------------+\n",
      "|     id|               items|      distinct_items|\n",
      "+-------+--------------------+--------------------+\n",
      "| 536596|[21624, 22900, 22...|[21624, 22114, 21...|\n",
      "| 536938|[22386, 85099C, 2...|[84997A, 21479, 8...|\n",
      "| 537252|             [22197]|             [22197]|\n",
      "| 537691|[22791, 22171, 82...|[22505, 22666, 84...|\n",
      "| 538041|             [22145]|             [22145]|\n",
      "| 538184|[22585, 21481, 22...|[22560, 22561, 21...|\n",
      "| 538517|[22491, 21232, 21...|[22562, 22563, 22...|\n",
      "| 538879|[84819, 22150, 21...|[22593, 22453, 21...|\n",
      "| 539275|[22909, 22423, 22...|[21914, 21915, 22...|\n",
      "| 539630|[21484, 85099B, 2...|[21484, 21485, 22...|\n",
      "| 540499|[21868, 22697, 22...|[22625, 22624, 22...|\n",
      "| 540540|[21877, 21868, 21...|[22443, 22442, 22...|\n",
      "| 540976|[22394, 21890, 22...|[20914, 22115, 22...|\n",
      "| 541432|[21485, 22457, 84...|[21485, 22113, 22...|\n",
      "| 541518|[21880, 21881, 21...|[22504, 22378, 84...|\n",
      "| 541783|[22423, 22854, 22...|[22777, 21669, 22...|\n",
      "| 542026|[21754, 82600, 22...|[21754, 22192, 22...|\n",
      "| 542375|[21731, 22367, 22...|[22634, 22629, 21...|\n",
      "|C540850|             [21231]|             [21231]|\n",
      "| 543641|[85123A, 21833, 2...|[75131, 21644, 44...|\n",
      "+-------+--------------------+--------------------+\n",
      "only showing top 20 rows\n",
      "\n"
     ]
    }
   ],
   "source": [
    "df_group.show()"
   ]
  },
  {
   "cell_type": "code",
   "execution_count": 18,
   "metadata": {},
   "outputs": [
    {
     "name": "stdout",
     "output_type": "stream",
     "text": [
      "root\n",
      " |-- id: string (nullable = true)\n",
      " |-- items: array (nullable = true)\n",
      " |    |-- element: string (containsNull = true)\n",
      " |-- distinct_items: array (nullable = true)\n",
      " |    |-- element: string (containsNull = true)\n",
      "\n"
     ]
    }
   ],
   "source": [
    "df_group.printSchema()"
   ]
  },
  {
   "cell_type": "code",
   "execution_count": 19,
   "metadata": {},
   "outputs": [],
   "source": [
    "df_group = df_group.selectExpr(['id','distinct_items as items'])"
   ]
  },
  {
   "cell_type": "code",
   "execution_count": 20,
   "metadata": {},
   "outputs": [
    {
     "name": "stdout",
     "output_type": "stream",
     "text": [
      "+-------+--------------------+\n",
      "|     id|               items|\n",
      "+-------+--------------------+\n",
      "| 536596|[21624, 22114, 21...|\n",
      "| 536938|[84997A, 21479, 8...|\n",
      "| 537252|             [22197]|\n",
      "| 537691|[22505, 22666, 84...|\n",
      "| 538041|             [22145]|\n",
      "| 538184|[22560, 22561, 21...|\n",
      "| 538517|[22562, 22563, 22...|\n",
      "| 538879|[22593, 22453, 21...|\n",
      "| 539275|[21914, 21915, 22...|\n",
      "| 539630|[21484, 21485, 22...|\n",
      "| 540499|[22625, 22624, 22...|\n",
      "| 540540|[22443, 22442, 22...|\n",
      "| 540976|[20914, 22115, 22...|\n",
      "| 541432|[21485, 22113, 22...|\n",
      "| 541518|[22504, 22378, 84...|\n",
      "| 541783|[22777, 21669, 22...|\n",
      "| 542026|[21754, 22192, 22...|\n",
      "| 542375|[22634, 22629, 21...|\n",
      "|C540850|             [21231]|\n",
      "| 543641|[75131, 21644, 44...|\n",
      "+-------+--------------------+\n",
      "only showing top 20 rows\n",
      "\n"
     ]
    }
   ],
   "source": [
    "df_group.show()"
   ]
  },
  {
   "cell_type": "code",
   "execution_count": 21,
   "metadata": {},
   "outputs": [
    {
     "name": "stdout",
     "output_type": "stream",
     "text": [
      "root\n",
      " |-- id: string (nullable = true)\n",
      " |-- items: array (nullable = true)\n",
      " |    |-- element: string (containsNull = true)\n",
      "\n"
     ]
    }
   ],
   "source": [
    "df_group.printSchema()"
   ]
  },
  {
   "cell_type": "markdown",
   "metadata": {},
   "source": [
    "## FP-Growth Algorithm"
   ]
  },
  {
   "cell_type": "code",
   "execution_count": 22,
   "metadata": {},
   "outputs": [],
   "source": [
    "from pyspark.ml.fpm import FPGrowth"
   ]
  },
  {
   "cell_type": "code",
   "execution_count": 23,
   "metadata": {},
   "outputs": [],
   "source": [
    "fpGrowth = FPGrowth(itemsCol=\"items\", minSupport=0.5, minConfidence=0.6)\n",
    "model = fpGrowth.fit(df_group)"
   ]
  },
  {
   "cell_type": "code",
   "execution_count": 24,
   "metadata": {},
   "outputs": [
    {
     "name": "stdout",
     "output_type": "stream",
     "text": [
      "+-----+----+\n",
      "|items|freq|\n",
      "+-----+----+\n",
      "+-----+----+\n",
      "\n"
     ]
    }
   ],
   "source": [
    "# Display frequent itemsets\n",
    "model.freqItemsets.show()"
   ]
  },
  {
   "cell_type": "code",
   "execution_count": 25,
   "metadata": {},
   "outputs": [],
   "source": [
    "fpGrowth2 = FPGrowth(itemsCol=\"items\", minSupport=0.05, minConfidence=0.06)\n",
    "model2 = fpGrowth2.fit(df_group)"
   ]
  },
  {
   "cell_type": "code",
   "execution_count": 26,
   "metadata": {},
   "outputs": [
    {
     "name": "stdout",
     "output_type": "stream",
     "text": [
      "+--------+----+\n",
      "|   items|freq|\n",
      "+--------+----+\n",
      "|[85123A]|2246|\n",
      "| [22423]|2172|\n",
      "|[85099B]|2135|\n",
      "| [47566]|1706|\n",
      "| [20725]|1608|\n",
      "| [84879]|1468|\n",
      "| [22720]|1462|\n",
      "| [22197]|1442|\n",
      "| [21212]|1334|\n",
      "| [22383]|1306|\n",
      "| [20727]|1295|\n",
      "+--------+----+\n",
      "\n"
     ]
    }
   ],
   "source": [
    "# Display frequent itemsets\n",
    "model2.freqItemsets.show()"
   ]
  },
  {
   "cell_type": "code",
   "execution_count": 27,
   "metadata": {},
   "outputs": [
    {
     "name": "stdout",
     "output_type": "stream",
     "text": [
      "+----------+----------+----------+\n",
      "|antecedent|consequent|confidence|\n",
      "+----------+----------+----------+\n",
      "+----------+----------+----------+\n",
      "\n"
     ]
    }
   ],
   "source": [
    "# Display generated association rules.\n",
    "model2.associationRules.show()"
   ]
  },
  {
   "cell_type": "code",
   "execution_count": 28,
   "metadata": {},
   "outputs": [],
   "source": [
    "fpGrowth3 = FPGrowth(itemsCol=\"items\", minSupport=0.02, minConfidence=0.03)\n",
    "model3 = fpGrowth3.fit(df_group)"
   ]
  },
  {
   "cell_type": "code",
   "execution_count": 29,
   "metadata": {},
   "outputs": [
    {
     "name": "stdout",
     "output_type": "stream",
     "text": [
      "+---------------+----+\n",
      "|          items|freq|\n",
      "+---------------+----+\n",
      "|       [85123A]|2246|\n",
      "|        [22423]|2172|\n",
      "|       [85099B]|2135|\n",
      "|        [47566]|1706|\n",
      "|        [20725]|1608|\n",
      "|[20725, 85099B]| 588|\n",
      "|        [84879]|1468|\n",
      "|        [22720]|1462|\n",
      "|        [22197]|1442|\n",
      "|        [21212]|1334|\n",
      "|        [22383]|1306|\n",
      "| [22383, 20725]| 663|\n",
      "|        [20727]|1295|\n",
      "| [20727, 20725]| 648|\n",
      "| [20727, 22383]| 587|\n",
      "|        [22457]|1266|\n",
      "|         [POST]|1254|\n",
      "|        [23203]|1249|\n",
      "|[23203, 85099B]| 582|\n",
      "|        [22386]|1231|\n",
      "+---------------+----+\n",
      "only showing top 20 rows\n",
      "\n"
     ]
    }
   ],
   "source": [
    "# Display frequent itemsets\n",
    "model3.freqItemsets.show()"
   ]
  },
  {
   "cell_type": "code",
   "execution_count": 30,
   "metadata": {},
   "outputs": [
    {
     "name": "stdout",
     "output_type": "stream",
     "text": [
      "+----------+----------+-------------------+\n",
      "|antecedent|consequent|         confidence|\n",
      "+----------+----------+-------------------+\n",
      "|   [22699]|   [22423]|0.47946428571428573|\n",
      "|   [22699]|   [22697]|                0.7|\n",
      "|   [22699]|   [22698]| 0.5482142857142858|\n",
      "|   [22386]|  [85099B]| 0.6766856214459789|\n",
      "|   [22386]|   [21931]| 0.4207961007311129|\n",
      "|   [20727]|   [20725]| 0.5003861003861004|\n",
      "|   [20727]|   [22383]| 0.4532818532818533|\n",
      "|   [20727]|   [20728]| 0.4061776061776062|\n",
      "|   [20727]|   [22384]| 0.4223938223938224|\n",
      "|   [22382]|   [20725]| 0.4811965811965812|\n",
      "|   [22382]|   [22383]|0.45897435897435895|\n",
      "|   [20725]|  [85099B]| 0.3656716417910448|\n",
      "|   [20725]|   [22383]| 0.4123134328358209|\n",
      "|   [20725]|   [20727]|0.40298507462686567|\n",
      "|   [20725]|   [20728]|0.34950248756218905|\n",
      "|   [20725]|   [22382]|0.35012437810945274|\n",
      "|   [20725]|   [22384]| 0.3812189054726368|\n",
      "|   [20725]|   [20726]| 0.3308457711442786|\n",
      "|   [22384]|   [20725]| 0.5522522522522523|\n",
      "|   [22384]|   [20727]| 0.4927927927927928|\n",
      "+----------+----------+-------------------+\n",
      "only showing top 20 rows\n",
      "\n"
     ]
    }
   ],
   "source": [
    "# Display generated association rules.\n",
    "model3.associationRules.show()"
   ]
  },
  {
   "cell_type": "code",
   "execution_count": 31,
   "metadata": {},
   "outputs": [
    {
     "name": "stdout",
     "output_type": "stream",
     "text": [
      "+-------+--------------------+--------------------+\n",
      "|     id|               items|          prediction|\n",
      "+-------+--------------------+--------------------+\n",
      "| 536596|[21624, 22114, 21...|                  []|\n",
      "| 536938|[84997A, 21479, 8...|     [85099B, 22411]|\n",
      "| 537252|             [22197]|                  []|\n",
      "| 537691|[22505, 22666, 84...|                  []|\n",
      "| 538041|             [22145]|                  []|\n",
      "| 538184|[22560, 22561, 21...|                  []|\n",
      "| 538517|[22562, 22563, 22...|                  []|\n",
      "| 538879|[22593, 22453, 21...|                  []|\n",
      "| 539275|[21914, 21915, 22...|      [22699, 22697]|\n",
      "| 539630|[21484, 21485, 22...|[20725, 23203, 22...|\n",
      "| 540499|[22625, 22624, 22...|      [22698, 20724]|\n",
      "| 540540|[22443, 22442, 22...|                  []|\n",
      "| 540976|[20914, 22115, 22...|             [22356]|\n",
      "| 541432|[21485, 22113, 22...|                  []|\n",
      "| 541518|[22504, 22378, 84...|[22356, 20725, 23...|\n",
      "| 541783|[22777, 21669, 22...|             [22698]|\n",
      "| 542026|[21754, 22192, 22...|                  []|\n",
      "| 542375|[22634, 22629, 21...|             [22630]|\n",
      "|C540850|             [21231]|                  []|\n",
      "| 543641|[75131, 21644, 44...|                  []|\n",
      "+-------+--------------------+--------------------+\n",
      "only showing top 20 rows\n",
      "\n"
     ]
    }
   ],
   "source": [
    "# Transform examines the input items against all the association rules and summarize the\n",
    "# consequents as prediction\n",
    "model3.transform(df_group).show()"
   ]
  },
  {
   "cell_type": "code",
   "execution_count": 51,
   "metadata": {},
   "outputs": [],
   "source": [
    "fpGrowth4 = FPGrowth(itemsCol=\"items\", minSupport=0.01, minConfidence=0.02)\n",
    "model4 = fpGrowth4.fit(df_group)"
   ]
  },
  {
   "cell_type": "code",
   "execution_count": 52,
   "metadata": {},
   "outputs": [
    {
     "name": "stdout",
     "output_type": "stream",
     "text": [
      "+----------------+----+\n",
      "|           items|freq|\n",
      "+----------------+----+\n",
      "|         [22633]| 487|\n",
      "|         [23236]| 344|\n",
      "|        [85123A]|2246|\n",
      "|         [22423]|2172|\n",
      "| [22423, 85123A]| 355|\n",
      "|         [22667]| 486|\n",
      "|         [22579]| 343|\n",
      "|  [22579, 22578]| 282|\n",
      "|        [85099B]|2135|\n",
      "| [85099B, 22423]| 288|\n",
      "|[85099B, 85123A]| 404|\n",
      "|         [22620]| 486|\n",
      "|        [84536A]| 342|\n",
      "|         [71053]| 342|\n",
      "|         [47566]|1706|\n",
      "| [47566, 85099B]| 332|\n",
      "|  [47566, 22423]| 398|\n",
      "| [47566, 85123A]| 391|\n",
      "|         [85150]| 483|\n",
      "|         [20725]|1608|\n",
      "+----------------+----+\n",
      "only showing top 20 rows\n",
      "\n"
     ]
    }
   ],
   "source": [
    "# Display frequent itemsets\n",
    "model4.freqItemsets.show()"
   ]
  },
  {
   "cell_type": "code",
   "execution_count": 53,
   "metadata": {},
   "outputs": [
    {
     "name": "stdout",
     "output_type": "stream",
     "text": [
      "+--------------+----------+-------------------+\n",
      "|    antecedent|consequent|         confidence|\n",
      "+--------------+----------+-------------------+\n",
      "|       [22554]|   [22551]| 0.4823695345557123|\n",
      "|       [22554]|   [22556]| 0.3991537376586742|\n",
      "|       [22960]|   [21212]|0.21885245901639344|\n",
      "|       [22960]|  [85099B]|0.23688524590163934|\n",
      "|       [22960]|   [22423]|0.23852459016393443|\n",
      "|       [22960]|   [22720]| 0.3155737704918033|\n",
      "|       [22960]|   [22961]|0.38934426229508196|\n",
      "|       [22960]|   [22666]|0.28032786885245903|\n",
      "|       [22960]|   [22993]| 0.2540983606557377|\n",
      "|       [22960]|   [22697]|0.21475409836065573|\n",
      "|       [22960]|   [22722]|0.22131147540983606|\n",
      "|[20726, 22382]|   [20728]|  0.546583850931677|\n",
      "|[20726, 22382]|   [20725]| 0.6356107660455487|\n",
      "|[20726, 22382]|   [20727]| 0.5445134575569358|\n",
      "|[20726, 22382]|   [22383]| 0.5403726708074534|\n",
      "|       [21977]|   [21212]| 0.4948571428571429|\n",
      "|       [21977]|   [84991]| 0.4045714285714286|\n",
      "|       [22699]|   [22423]|0.47946428571428573|\n",
      "|       [22699]|   [23170]|0.24910714285714286|\n",
      "|       [22699]|   [22697]|                0.7|\n",
      "+--------------+----------+-------------------+\n",
      "only showing top 20 rows\n",
      "\n"
     ]
    }
   ],
   "source": [
    "# Display generated association rules\n",
    "model4.associationRules.show()"
   ]
  },
  {
   "cell_type": "code",
   "execution_count": 55,
   "metadata": {},
   "outputs": [
    {
     "name": "stdout",
     "output_type": "stream",
     "text": [
      "+-------+--------------------+--------------------+\n",
      "|     id|               items|          prediction|\n",
      "+-------+--------------------+--------------------+\n",
      "| 536596|[21624, 22114, 21...|[23355, 22112, 22...|\n",
      "| 536938|[84997A, 21479, 8...|[85099B, 20725, 2...|\n",
      "| 537252|             [22197]|[85099B, 20725, 2...|\n",
      "| 537691|[22505, 22666, 84...|[21212, 85099B, 2...|\n",
      "| 538041|             [22145]|                  []|\n",
      "| 538184|[22560, 22561, 21...|[85099B, 85123A, ...|\n",
      "| 538517|[22562, 22563, 22...|[85099B, 20725, 2...|\n",
      "| 538879|[22593, 22453, 21...|[84991, 85099B, 2...|\n",
      "| 539275|[21914, 21915, 22...|[85123A, 85099B, ...|\n",
      "| 539630|[21484, 21485, 22...|[85123A, 47566, 2...|\n",
      "| 540499|[22625, 22624, 22...|[23170, 22698, DO...|\n",
      "| 540540|[22443, 22442, 22...|[22112, 21485, 22...|\n",
      "| 540976|[20914, 22115, 22...|[22556, 21931, 20...|\n",
      "| 541432|[21485, 22113, 22...|[85099B, 85123A, ...|\n",
      "| 541518|[22504, 22378, 84...|[21931, 20725, 22...|\n",
      "| 541783|[22777, 21669, 22...|[23170, 22698, DO...|\n",
      "| 542026|[21754, 22192, 22...|[21755, 85099B, 2...|\n",
      "| 542375|[22634, 22629, 21...|[22630, 22659, 85...|\n",
      "|C540850|             [21231]|             [21232]|\n",
      "| 543641|[75131, 21644, 44...|[22423, 85099B, 4...|\n",
      "+-------+--------------------+--------------------+\n",
      "only showing top 20 rows\n",
      "\n"
     ]
    }
   ],
   "source": [
    "# Transform examines the input items against all the association rules and summarize the\n",
    "# consequents as prediction\n",
    "model4.transform(df_group).show()"
   ]
  },
  {
   "cell_type": "code",
   "execution_count": 57,
   "metadata": {},
   "outputs": [],
   "source": [
    "df2 = spark.createDataFrame([\n",
    "    ('0', ['22382']),\n",
    "    ('1', ['22692', '22699']),\n",
    "    ('2', ['20725','20727','20729'])\n",
    "], ['id', 'items'])"
   ]
  },
  {
   "cell_type": "code",
   "execution_count": 58,
   "metadata": {},
   "outputs": [
    {
     "name": "stdout",
     "output_type": "stream",
     "text": [
      "+---+---------------------+-------------------------------------------+\n",
      "|id |items                |prediction                                 |\n",
      "+---+---------------------+-------------------------------------------+\n",
      "|0  |[22382]              |[20725, 22383]                             |\n",
      "|1  |[22692, 22699]       |[22423, 22697, 22698]                      |\n",
      "|2  |[20725, 20727, 20729]|[22383, 20728, 22384, 85099B, 22382, 20726]|\n",
      "+---+---------------------+-------------------------------------------+\n",
      "\n"
     ]
    }
   ],
   "source": [
    "#Get the prediction from model3 (minSupport=0.02, minConfidence=0.03)\n",
    "model3.transform(df2).show(truncate = False)"
   ]
  },
  {
   "cell_type": "code",
   "execution_count": 59,
   "metadata": {},
   "outputs": [
    {
     "name": "stdout",
     "output_type": "stream",
     "text": [
      "+---+---------------------+-------------------------------------------------------------------------------------------------------------------------------------------------------------------------------------------------------+\n",
      "|id |items                |prediction                                                                                                                                                                                             |\n",
      "+---+---------------------+-------------------------------------------------------------------------------------------------------------------------------------------------------------------------------------------------------+\n",
      "|0  |[22382]              |[85099B, 20728, 20725, 20727, 22383, 23209, 22384, 20724, 23206, 20726, 23207, 22662, 23208]                                                                                                           |\n",
      "|1  |[22692, 22699]       |[22423, 23170, 22697, 22698, DOT]                                                                                                                                                                      |\n",
      "|2  |[20725, 20727, 20729]|[21212, 85099B, 22197, 22383, 85123A, 23203, 21931, 20728, 22382, 23209, 22384, 20724, 23206, 20726, 22355, 20719, 22356, 23207, 20723, 21930, 22662, 23208, 22423, 47566, 22386, 22411, 23199, 85099C]|\n",
      "+---+---------------------+-------------------------------------------------------------------------------------------------------------------------------------------------------------------------------------------------------+\n",
      "\n"
     ]
    }
   ],
   "source": [
    "#Get the prediction from model4 (minSupport=0.01, minConfidence=0.02)\n",
    "model4.transform(df2).show(truncate = False)"
   ]
  },
  {
   "cell_type": "markdown",
   "metadata": {},
   "source": [
    "Check the Description of the item from model3 (with id = 1)"
   ]
  },
  {
   "cell_type": "code",
   "execution_count": 60,
   "metadata": {},
   "outputs": [],
   "source": [
    "# Register the DataFrame as a SQL temporary view\n",
    "df_items.createOrReplaceTempView(\"data\")"
   ]
  },
  {
   "cell_type": "code",
   "execution_count": 61,
   "metadata": {},
   "outputs": [
    {
     "name": "stdout",
     "output_type": "stream",
     "text": [
      "+--------------------------------+\n",
      "|Description                     |\n",
      "+--------------------------------+\n",
      "|DOORMAT WELCOME TO OUR HOME     |\n",
      "|ROSES REGENCY TEACUP AND SAUCER |\n",
      "+--------------------------------+\n",
      "\n"
     ]
    }
   ],
   "source": [
    "# Find the Description of the item with StockCode of 22692 or 22699 \n",
    "query = spark.sql(\"SELECT DISTINCT Description \\\n",
    "                FROM data \\\n",
    "                WHERE (items = '22692' OR items = '22699')\")\n",
    "query.show(truncate = False)"
   ]
  },
  {
   "cell_type": "code",
   "execution_count": 62,
   "metadata": {},
   "outputs": [
    {
     "name": "stdout",
     "output_type": "stream",
     "text": [
      "+-------------------------------+\n",
      "|Description                    |\n",
      "+-------------------------------+\n",
      "|REGENCY CAKESTAND 3 TIER       |\n",
      "|null                           |\n",
      "|damages                        |\n",
      "|GREEN REGENCY TEACUP AND SAUCER|\n",
      "|PINK REGENCY TEACUP AND SAUCER |\n",
      "|faulty                         |\n",
      "+-------------------------------+\n",
      "\n"
     ]
    }
   ],
   "source": [
    "# Find the Description of the item with StockCode of 22423 or 22697 or 22698\n",
    "query2 = spark.sql(\"SELECT DISTINCT Description \\\n",
    "                FROM data \\\n",
    "                WHERE (items = '22423' OR items = '22697' OR items = '22698')\")\n",
    "query2.show(truncate = False)"
   ]
  },
  {
   "cell_type": "markdown",
   "metadata": {},
   "source": [
    "From the result above, we can take a conclusion that if people buy Doormat Welcome To Our Home and Roses Regency Teacup and Saucer, then they are most likely also to buy Regency Cakestand 3 Tier and/or Green Regency Teacup and Saucer and/or Pink Regency Teacup and Saucer."
   ]
  },
  {
   "cell_type": "markdown",
   "metadata": {},
   "source": [
    "## Reference"
   ]
  },
  {
   "cell_type": "markdown",
   "metadata": {},
   "source": [
    "1. Remove duplicates from PySpark array column (https://stackoverflow.com/questions/54185710/remove-duplicates-from-pyspark-array-column)"
   ]
  }
 ],
 "metadata": {
  "kernelspec": {
   "display_name": "Python 2",
   "language": "python",
   "name": "python2"
  },
  "language_info": {
   "codemirror_mode": {
    "name": "ipython",
    "version": 2
   },
   "file_extension": ".py",
   "mimetype": "text/x-python",
   "name": "python",
   "nbconvert_exporter": "python",
   "pygments_lexer": "ipython2",
   "version": "2.7.14"
  }
 },
 "nbformat": 4,
 "nbformat_minor": 2
}
