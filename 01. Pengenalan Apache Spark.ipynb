{
 "cells": [
  {
   "cell_type": "markdown",
   "metadata": {},
   "source": [
    "## Spark Initialization"
   ]
  },
  {
   "cell_type": "code",
   "execution_count": 1,
   "metadata": {},
   "outputs": [],
   "source": [
    "# Import findspark to read SPARK_HOME and HADOOP_HOME\n",
    "import findspark\n",
    "findspark.init()"
   ]
  },
  {
   "cell_type": "code",
   "execution_count": 2,
   "metadata": {},
   "outputs": [],
   "source": [
    "# Import required library\n",
    "from pyspark.sql import SparkSession\n",
    "\n",
    "# Create Spark Session\n",
    "spark = SparkSession \\\n",
    "    .builder \\\n",
    "    .appName(\"Python Spark SQL basic example\") \\\n",
    "    .getOrCreate()"
   ]
  },
  {
   "cell_type": "code",
   "execution_count": 3,
   "metadata": {},
   "outputs": [
    {
     "name": "stdout",
     "output_type": "stream",
     "text": [
      "<pyspark.sql.session.SparkSession object at 0x00000000068882B0>\n"
     ]
    }
   ],
   "source": [
    "# Print Spark object ID\n",
    "print(spark)"
   ]
  },
  {
   "cell_type": "markdown",
   "metadata": {},
   "source": [
    "## Loading Data using Spark"
   ]
  },
  {
   "cell_type": "code",
   "execution_count": 4,
   "metadata": {},
   "outputs": [],
   "source": [
    "# Datasets can be downloaded from https://www.kaggle.com/new-york-state/nys-511-ny-events\n",
    "\n",
    "df = spark.read.csv(\"D:/TC/6BigData/Dataset/nys-511-ny-events/511-ny-events-beginning-2010.csv\", header=True, inferSchema=True)"
   ]
  },
  {
   "cell_type": "code",
   "execution_count": 5,
   "metadata": {},
   "outputs": [
    {
     "data": {
      "text/plain": [
       "1674327"
      ]
     },
     "execution_count": 5,
     "metadata": {},
     "output_type": "execute_result"
    }
   ],
   "source": [
    "df.count()"
   ]
  },
  {
   "cell_type": "code",
   "execution_count": 6,
   "metadata": {},
   "outputs": [
    {
     "name": "stdout",
     "output_type": "stream",
     "text": [
      "+--------------------+--------------------+--------------------+---------------+--------------------+-----------+-----+-------------------+-------------------+--------------------+--------------------------+---------+----------+\n",
      "|          Event Type|   Organization Name|       Facility Name|      Direction|                City|     County|State|        Create Time|         Close Time|   Event Description|Responding Organization Id| Latitude| Longitude|\n",
      "+--------------------+--------------------+--------------------+---------------+--------------------+-----------+-----+-------------------+-------------------+--------------------+--------------------------+---------+----------+\n",
      "|        construction|MTA NYC Transit S...|              D Line|    Bronx bound|      from Manhattan|   New York|   NY|2016-06-30 22:58:00|2016-07-01 05:15:00|Due to Constructi...|      MTA NYC Transit S...|40.769205|-73.984887|\n",
      "|        construction|Port Authority Ne...|George Washington...|      Westbound|           Manhattan|   New York|   NY|2016-06-30 22:53:00|2016-07-01 04:00:00|Construction, exp...|      Port Authority Ne...|40.850318|-73.945276|\n",
      "|            accident|              NYSDOT|I-95 - New Englan...|     Northbound|                null|Westchester|   NY|2016-06-30 22:50:00|2016-07-01 01:02:00|accident on I-95 ...|                    NYSDOT| 40.97545|-73.716415|\n",
      "|              delays|New York State De...|               I-278|      Eastbound|    between New York|      Kings|   NY|2016-06-30 22:49:00|2016-07-01 01:35:00|Delays on I-278 e...|      New York State De...|  40.6916|-73.999099|\n",
      "|              delays|New York State De...|                I-95|     Northbound|    between New York|   New York|   NY|2016-06-30 22:48:00|2016-07-01 04:43:00|Delays on I-95 no...|      New York State De...|40.851501|-73.952102|\n",
      "|        construction|New York State De...|               I-495|      Westbound|      between Queens|     Queens|   NY|2016-06-30 22:47:00|2016-07-01 04:43:00|Construction on I...|      New York State De...|40.737598|-73.850601|\n",
      "|              delays|New York State De...|               I-278|      Westbound|    between New York|     Queens|   NY|2016-06-30 22:44:00|2016-07-01 01:54:00|Delays on I-278 w...|      New York State De...|  40.7406|-73.899002|\n",
      "|        construction|MTA NYC Transit S...|              A Line|Manhattan bound|      from Manhattan|   New York|   NY|2016-06-30 22:43:00|2016-07-01 05:01:00|Due to Constructi...|      MTA NYC Transit S...|40.824053|-73.944835|\n",
      "|        construction|New Jersey DOT - ...|  US 1&9 Truck Route|     Southbound|area of Kearny/Je...|     Hudson|   NJ|2016-06-30 22:39:00|2016-07-01 01:01:00|Construction on U...|      New Jersey DOT - ...|40.728237|-74.102223|\n",
      "|            roadwork|Connecticut Depar...|                I95N|     Northbound|       at Bridgeport|  Fairfield|   CT|2016-06-30 22:32:00|2016-07-01 05:29:00|Road Work on I-95...|      Connecticut Depar...|41.171118|-73.192596|\n",
      "|    disabled vehicle|New York State De...|Taconic State Par...|     Northbound|      north of Ghent|   Columbia|   NY|2016-06-30 22:31:00|2016-07-01 00:35:00|Disabled vehicle ...|      New York State De...|42.256999|-73.613998|\n",
      "|accident with inj...|New Jersey DOT - ...|                I-76|      Eastbound|     Gloucester City|     Camden|   NJ|2016-06-30 22:30:00|2016-07-01 00:42:00|Accident with Inj...|      New Jersey DOT - ...|39.882305|-75.103304|\n",
      "|            incident|MTA Long Island R...| PT Jefferson Branch|      Eastbound|out of Suffolk Co...|    Suffolk|   NY|2016-06-30 22:29:00|2016-06-30 23:54:00|Due to Delays, ea...|      MTA Long Island R...|40.852352|-73.409812|\n",
      "|    disabled vehicle|New York State De...|               I-684|     Northbound|          at Bedford|Westchester|   NY|2016-06-30 22:28:00|2016-07-01 00:13:00|Disabled vehicle ...|      New York State De...|41.263999|-73.684097|\n",
      "|        construction|Port Authority Ne...|      Lincoln Tunnel|      Eastbound|       Weehawken Twp|     Hudson|   NY|2016-06-30 22:24:00|2016-07-01 04:18:00|Construction, tun...|      Port Authority Ne...|40.764602|-74.014917|\n",
      "|        construction|MTA NYC Transit S...|              G Line|Both directions|      between Queens|     Queens|   NY|2016-06-30 22:21:00|2016-07-01 05:02:00|Due to Constructi...|      MTA NYC Transit S...|40.746397|-73.944422|\n",
      "|        construction|New Jersey DOT - ...|               I-280|      Westbound|      ramp to Newark|      Essex|   NJ|2016-06-30 22:19:00|2016-07-01 05:03:00|Construction, con...|      New Jersey DOT - ...|40.748066|-74.167155|\n",
      "|        construction|New Jersey DOT - ...|               I-280|      Westbound|      ramp to Newark|      Essex|   NJ|2016-06-30 22:17:00|2016-07-01 05:19:00|Construction on I...|      New Jersey DOT - ...|40.748066|-74.167155|\n",
      "|   paving operations|New Jersey DOT - ...|                US 1|     Northbound|between South Bru...|  Middlesex|   NJ|2016-06-30 22:15:00|2016-07-04 14:18:00|Paving operations...|      New Jersey DOT - ...|40.379418|-74.579738|\n",
      "|        construction|New Jersey DOT - ...|        NJ 139 Lower|Both directions| between Jersey City|     Hudson|   NJ|2016-06-30 22:14:00|2016-07-01 05:03:00|Construction, con...|      New Jersey DOT - ...|40.739058|-74.067733|\n",
      "+--------------------+--------------------+--------------------+---------------+--------------------+-----------+-----+-------------------+-------------------+--------------------+--------------------------+---------+----------+\n",
      "only showing top 20 rows\n",
      "\n"
     ]
    }
   ],
   "source": [
    "df.show()"
   ]
  },
  {
   "cell_type": "code",
   "execution_count": 7,
   "metadata": {},
   "outputs": [
    {
     "data": {
      "text/plain": [
       "StructType(List(StructField(Event Type,StringType,true),StructField(Organization Name,StringType,true),StructField(Facility Name,StringType,true),StructField(Direction,StringType,true),StructField(City,StringType,true),StructField(County,StringType,true),StructField(State,StringType,true),StructField(Create Time,TimestampType,true),StructField(Close Time,TimestampType,true),StructField(Event Description,StringType,true),StructField(Responding Organization Id,StringType,true),StructField(Latitude,StringType,true),StructField(Longitude,StringType,true)))"
      ]
     },
     "execution_count": 7,
     "metadata": {},
     "output_type": "execute_result"
    }
   ],
   "source": [
    "df.schema"
   ]
  },
  {
   "cell_type": "code",
   "execution_count": 8,
   "metadata": {},
   "outputs": [],
   "source": [
    "# Register the DataFrame as a SQL temporary view\n",
    "df.createOrReplaceTempView(\"ny_events\")"
   ]
  },
  {
   "cell_type": "code",
   "execution_count": 9,
   "metadata": {},
   "outputs": [],
   "source": [
    "result = spark.sql(\"SELECT DISTINCT `Event Type` FROM ny_events\")"
   ]
  },
  {
   "cell_type": "code",
   "execution_count": 10,
   "metadata": {},
   "outputs": [
    {
     "name": "stdout",
     "output_type": "stream",
     "text": [
      "+--------------------+\n",
      "|          Event Type|\n",
      "+--------------------+\n",
      "|operational activ...|\n",
      "|                 fog|\n",
      "|accident, disable...|\n",
      "|barrier repairs, ...|\n",
      "|  Guard rail repairs|\n",
      "|         broken rail|\n",
      "|accident,accident...|\n",
      "|Moveable Barrier ...|\n",
      "|single line traff...|\n",
      "|delays,stopped tr...|\n",
      "|delays,traffic he...|\n",
      "|objects falling f...|\n",
      "|road reconstructi...|\n",
      "|road maintenance ...|\n",
      "|numerous accident...|\n",
      "|CCTV repairs,test...|\n",
      "|accident,capacity...|\n",
      "|            lacrosse|\n",
      "|moving operation,...|\n",
      "|    show, exhibition|\n",
      "+--------------------+\n",
      "only showing top 20 rows\n",
      "\n"
     ]
    }
   ],
   "source": [
    "result.show()"
   ]
  },
  {
   "cell_type": "markdown",
   "metadata": {},
   "source": [
    "## Data Mining Process "
   ]
  },
  {
   "cell_type": "code",
   "execution_count": 11,
   "metadata": {},
   "outputs": [],
   "source": [
    "# Menampilkan data kejadian berdasarkan lokasi terjadinya\n",
    "\n",
    "query1 = spark.sql(\"SELECT `Event Type`, `Event Description`, Latitude, Longitude, COUNT(`Event Type`) \\\n",
    "                    FROM ny_events \\\n",
    "                    GROUP BY `Event Type`, `Event Description`, Latitude, Longitude \\\n",
    "                    ORDER BY COUNT('Event Type') DESC\")"
   ]
  },
  {
   "cell_type": "code",
   "execution_count": 12,
   "metadata": {},
   "outputs": [
    {
     "name": "stdout",
     "output_type": "stream",
     "text": [
      "+--------------------+--------------------+----------+------------+-----------------+\n",
      "|          Event Type|   Event Description|  Latitude|   Longitude|count(Event Type)|\n",
      "+--------------------+--------------------+----------+------------+-----------------+\n",
      "|              delays|NYSDOT - Region 1...|     40.73|      -73.92|              766|\n",
      "|     parking related|Port Authority NY...|   40.7692|    -73.8646|              763|\n",
      "|              delays|NYSDOT - Region 1...|     40.73|      -73.91|              661|\n",
      "|              delays|NYSDOT - Region 1...|     40.71|      -73.95|              612|\n",
      "|              delays|NJ DOT - STMC: De...|     40.85|      -74.17|              606|\n",
      "|       special event|MTA Bridges & Tun...|     40.74|      -73.96|              469|\n",
      "|              delays|Delays on NJ 3 we...| 40.855328|  -74.178171|              467|\n",
      "|       special event|MTA Bridges & Tun...|     40.69|      -74.01|              462|\n",
      "|operational activity|Port Authority NY...|     40.85|      -73.96|              455|\n",
      "|              delays|NJ DOT - STMC: De...|     40.88|      -74.13|              422|\n",
      "|              delays|NJ DOT - STMC: De...|     40.87|      -74.12|              411|\n",
      "|        construction|Port Authority NY...|     40.72|      -74.01|              406|\n",
      "|        construction|Port Authority NY...|     40.72|      -74.02|              393|\n",
      "|        construction|NYSDOT - Region 8...|41.4475975|-74.36976624|              384|\n",
      "|              delays|NYSDOT - Region 1...|     40.73|      -73.84|              363|\n",
      "|     parking related|Parking related o...|   40.7692|    -73.8646|              362|\n",
      "|              delays|NJ DOT - STMC: De...|     40.73|      -74.04|              348|\n",
      "|operational activity|Port Authority NY...|     40.85|      -73.96|              342|\n",
      "|       special event|MTA Bridges & Tun...|     40.69|      -74.01|              341|\n",
      "|       heavy traffic|NJ DOT - TOC Sout...|      39.9|      -75.12|              327|\n",
      "+--------------------+--------------------+----------+------------+-----------------+\n",
      "only showing top 20 rows\n",
      "\n"
     ]
    }
   ],
   "source": [
    "query1.show()"
   ]
  },
  {
   "cell_type": "code",
   "execution_count": 13,
   "metadata": {},
   "outputs": [],
   "source": [
    "# Menampilkan nama organisasi yang paling sering menangani suatu kejadian\n",
    "\n",
    "query2 = spark.sql(\"SELECT `Organization Name`, COUNT(`Organization Name`) \\\n",
    "                    FROM ny_events \\\n",
    "                    GROUP BY `Organization Name`\\\n",
    "                    ORDER BY COUNT(`Organization Name`) DESC\")"
   ]
  },
  {
   "cell_type": "code",
   "execution_count": 14,
   "metadata": {},
   "outputs": [
    {
     "name": "stdout",
     "output_type": "stream",
     "text": [
      "+--------------------+------------------------+\n",
      "|   Organization Name|count(Organization Name)|\n",
      "+--------------------+------------------------+\n",
      "|       NJ DOT - STMC|                  183320|\n",
      "|  NYSDOT - Region 11|                  167607|\n",
      "|              NYSDOT|                  141743|\n",
      "|   NYSDOT - Region 8|                  137675|\n",
      "|  NJ DOT - TOC South|                  122551|\n",
      "|NYS Thruway Autho...|                   97991|\n",
      "|   NJ Turnpike Auth.|                   74660|\n",
      "|MTA NYC Transit S...|                   59854|\n",
      "|CT DOT-Newington-...|                   51944|\n",
      "|  NYSDOT - Region 10|                   51593|\n",
      "|                 WTA|                   51473|\n",
      "|New Jersey DOT - ...|                   45296|\n",
      "|CT DOT-Bridgeport...|                   43407|\n",
      "|New York State De...|                   40363|\n",
      "|MTA Long Island R...|                   37043|\n",
      "|Port Authority NY/NJ|                   35879|\n",
      "| MTA NYC Transit Bus|                   30344|\n",
      "|New Jersey Depart...|                   23573|\n",
      "|New York State De...|                   22199|\n",
      "|      NJ Transit Bus|                   21255|\n",
      "+--------------------+------------------------+\n",
      "only showing top 20 rows\n",
      "\n"
     ]
    }
   ],
   "source": [
    "query2.show()"
   ]
  },
  {
   "cell_type": "code",
   "execution_count": 15,
   "metadata": {},
   "outputs": [],
   "source": [
    "# Menampilkan jumlah kejadian yang dimulai per harinya\n",
    "\n",
    "query3 = spark.sql(\"SELECT TO_DATE(`Create Time`, 'MM/DD/YYYY') AS Date, COUNT(`Create Time`) \\\n",
    "                    FROM ny_events \\\n",
    "                    GROUP BY Date \\\n",
    "                    ORDER BY Date DESC\")"
   ]
  },
  {
   "cell_type": "code",
   "execution_count": 16,
   "metadata": {},
   "outputs": [
    {
     "name": "stdout",
     "output_type": "stream",
     "text": [
      "+----------+------------------+\n",
      "|      Date|count(Create Time)|\n",
      "+----------+------------------+\n",
      "|2016-06-30|               892|\n",
      "|2016-06-29|               856|\n",
      "|2016-06-28|               817|\n",
      "|2016-06-27|               869|\n",
      "|2016-06-26|               368|\n",
      "|2016-06-25|               444|\n",
      "|2016-06-24|               938|\n",
      "|2016-06-23|               947|\n",
      "|2016-06-22|               969|\n",
      "|2016-06-21|               951|\n",
      "|2016-06-20|               926|\n",
      "|2016-06-19|               370|\n",
      "|2016-06-18|               464|\n",
      "|2016-06-17|               949|\n",
      "|2016-06-16|              1014|\n",
      "|2016-06-15|               978|\n",
      "|2016-06-14|               973|\n",
      "|2016-06-13|               814|\n",
      "|2016-06-12|               365|\n",
      "|2016-06-11|               386|\n",
      "+----------+------------------+\n",
      "only showing top 20 rows\n",
      "\n"
     ]
    }
   ],
   "source": [
    "query3.show()"
   ]
  },
  {
   "cell_type": "code",
   "execution_count": 17,
   "metadata": {},
   "outputs": [],
   "source": [
    "# Menampilkan jumlah kejadian berdasarkan jenis kejadian dan rute tempat terjadinya\n",
    "\n",
    "query4 = spark.sql(\"SELECT `Event Type`, `Facility Name`, Direction, COUNT(`Event Type`) \\\n",
    "                    FROM ny_events \\\n",
    "                    GROUP BY `Event Type`, `Facility Name`, Direction \\\n",
    "                    ORDER BY COUNT(`Event Type`) DESC\")"
   ]
  },
  {
   "cell_type": "code",
   "execution_count": 18,
   "metadata": {},
   "outputs": [
    {
     "name": "stdout",
     "output_type": "stream",
     "text": [
      "+--------------------+--------------------+----------+-----------------+\n",
      "|          Event Type|       Facility Name| Direction|count(Event Type)|\n",
      "+--------------------+--------------------+----------+-----------------+\n",
      "|              delays|               I-278| eastbound|             9195|\n",
      "|            accident|  I-90 - NYS Thruway|      west|             8905|\n",
      "|            accident|  I-90 - NYS Thruway|      east|             8787|\n",
      "|            accident|  I-87 - NYS Thruway|     north|             8009|\n",
      "|            accident|  I-87 - NYS Thruway|     south|             7889|\n",
      "|              delays|               I-278| westbound|             7099|\n",
      "|road maintenance ...|  I-90 - NYS Thruway|      east|             6841|\n",
      "|              delays|                I95S|southbound|             6710|\n",
      "|road maintenance ...|  I-90 - NYS Thruway|      west|             6146|\n",
      "|    disabled vehicle|Taconic State Par...|northbound|             5970|\n",
      "|              delays|                I95N|northbound|             5510|\n",
      "|              delays|Garden State Parkway|northbound|             5396|\n",
      "|              delays|Garden State Parkway|southbound|             5005|\n",
      "|              delays|                I84E| eastbound|             4960|\n",
      "|    disabled vehicle|Taconic State Par...|southbound|             4797|\n",
      "|road maintenance ...|  I-87 - NYS Thruway|     north|             4679|\n",
      "|road maintenance ...|  I-87 - NYS Thruway|     south|             4438|\n",
      "|            accident|  I-87 - NYS Thruway|Northbound|             4239|\n",
      "|        construction|               I-278| eastbound|             4228|\n",
      "|            roadwork|                I95N|northbound|             4187|\n",
      "+--------------------+--------------------+----------+-----------------+\n",
      "only showing top 20 rows\n",
      "\n"
     ]
    }
   ],
   "source": [
    "query4.show()"
   ]
  },
  {
   "cell_type": "code",
   "execution_count": 19,
   "metadata": {},
   "outputs": [],
   "source": [
    "# Menampilkan daerah yang paling sering menjadi tempat kejadian\n",
    "\n",
    "query5 = spark.sql(\"SELECT City, County, State, COUNT(City) \\\n",
    "                    FROM ny_events \\\n",
    "                    GROUP BY City, County, State \\\n",
    "                    ORDER BY COUNT(City) DESC\")"
   ]
  },
  {
   "cell_type": "code",
   "execution_count": 20,
   "metadata": {},
   "outputs": [
    {
     "name": "stdout",
     "output_type": "stream",
     "text": [
      "+--------------+-----------+-----+-----------+\n",
      "|          City|     County|State|count(City)|\n",
      "+--------------+-----------+-----+-----------+\n",
      "|      New York|     Queens|   NY|      48445|\n",
      "|     Manhattan|   New York|   NY|      46367|\n",
      "|      New York|      Bronx|   NY|      28691|\n",
      "|      New York|      Kings|   NY|      27500|\n",
      "|      New York|   New York|   NY|      26277|\n",
      "|        Newark|      Essex|   NJ|      24817|\n",
      "|      Brooklyn|      Kings|   NY|      15964|\n",
      "|   Jersey City|     Hudson|   NJ|      14752|\n",
      "|        Queens|     Queens|   NY|      12879|\n",
      "|    Greenburgh|Westchester|   NY|      12357|\n",
      "|      HARTFORD|   Hartford|   CT|      10641|\n",
      "| Staten Island|   Richmond|   NY|      10036|\n",
      "|Suffolk County|    Suffolk|   NY|       9118|\n",
      "|     Hempstead|     Nassau|   NY|       9067|\n",
      "|       Clifton|    Passaic|   NJ|       8672|\n",
      "|       Yonkers|Westchester|   NY|       8280|\n",
      "|      Bellmawr|     Camden|   NJ|       8182|\n",
      "|  Hamilton Twp|     Mercer|   NJ|       7510|\n",
      "|      Fort Lee|     Bergen|   NY|       7489|\n",
      "|Woodbridge Twp|  Middlesex|   NJ|       7386|\n",
      "+--------------+-----------+-----+-----------+\n",
      "only showing top 20 rows\n",
      "\n"
     ]
    }
   ],
   "source": [
    "query5.show()"
   ]
  }
 ],
 "metadata": {
  "kernelspec": {
   "display_name": "Python 2",
   "language": "python",
   "name": "python2"
  },
  "language_info": {
   "codemirror_mode": {
    "name": "ipython",
    "version": 2
   },
   "file_extension": ".py",
   "mimetype": "text/x-python",
   "name": "python",
   "nbconvert_exporter": "python",
   "pygments_lexer": "ipython2",
   "version": "2.7.14"
  }
 },
 "nbformat": 4,
 "nbformat_minor": 2
}
