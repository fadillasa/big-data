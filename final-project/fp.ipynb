{
 "cells": [
  {
   "cell_type": "markdown",
   "metadata": {},
   "source": [
    "## Spark Initialization"
   ]
  },
  {
   "cell_type": "code",
   "execution_count": 1,
   "metadata": {},
   "outputs": [],
   "source": [
    "# Call findspark\n",
    "import findspark\n",
    "findspark.init()"
   ]
  },
  {
   "cell_type": "code",
   "execution_count": 2,
   "metadata": {},
   "outputs": [],
   "source": [
    "# Import required library\n",
    "from pyspark.sql import SparkSession\n",
    "\n",
    "# Create Spark Session\n",
    "spark = SparkSession \\\n",
    "    .builder \\\n",
    "    .appName(\"Python Spark SQL basic example\") \\\n",
    "    .getOrCreate()"
   ]
  },
  {
   "cell_type": "code",
   "execution_count": 3,
   "metadata": {},
   "outputs": [
    {
     "name": "stdout",
     "output_type": "stream",
     "text": [
      "<pyspark.sql.session.SparkSession object at 0x000000000678B198>\n"
     ]
    }
   ],
   "source": [
    "# Print Spark object ID\n",
    "print(spark)"
   ]
  },
  {
   "cell_type": "markdown",
   "metadata": {},
   "source": [
    "## Load Dataset & Pre-processing"
   ]
  },
  {
   "cell_type": "code",
   "execution_count": 4,
   "metadata": {},
   "outputs": [],
   "source": [
    "# Datasets can be downloaded from https://www.kaggle.com/cityofLA/crime-in-los-angeles\n",
    "df = spark.read.csv(\"D:/TC/6BigData/Dataset/crime-in-los-angeles/Crime_Data_2010_2017.csv\", header=True, inferSchema=True)"
   ]
  },
  {
   "cell_type": "code",
   "execution_count": 5,
   "metadata": {},
   "outputs": [
    {
     "name": "stdout",
     "output_type": "stream",
     "text": [
      "root\n",
      " |-- DR Number: integer (nullable = true)\n",
      " |-- Date Reported: string (nullable = true)\n",
      " |-- Date Occurred: string (nullable = true)\n",
      " |-- Time Occurred: integer (nullable = true)\n",
      " |-- Area ID: integer (nullable = true)\n",
      " |-- Area Name: string (nullable = true)\n",
      " |-- Reporting District: integer (nullable = true)\n",
      " |-- Crime Code: integer (nullable = true)\n",
      " |-- Crime Code Description: string (nullable = true)\n",
      " |-- MO Codes: string (nullable = true)\n",
      " |-- Victim Age: double (nullable = true)\n",
      " |-- Victim Sex: string (nullable = true)\n",
      " |-- Victim Descent: string (nullable = true)\n",
      " |-- Premise Code: double (nullable = true)\n",
      " |-- Premise Description: string (nullable = true)\n",
      " |-- Weapon Used Code: double (nullable = true)\n",
      " |-- Weapon Description: string (nullable = true)\n",
      " |-- Status Code: string (nullable = true)\n",
      " |-- Status Description: string (nullable = true)\n",
      " |-- Crime Code 1: double (nullable = true)\n",
      " |-- Crime Code 2: double (nullable = true)\n",
      " |-- Crime Code 3: double (nullable = true)\n",
      " |-- Crime Code 4: double (nullable = true)\n",
      " |-- Address: string (nullable = true)\n",
      " |-- Cross Street: string (nullable = true)\n",
      " |-- Location : string (nullable = true)\n",
      "\n"
     ]
    }
   ],
   "source": [
    "df.printSchema()"
   ]
  },
  {
   "cell_type": "code",
   "execution_count": 6,
   "metadata": {},
   "outputs": [
    {
     "data": {
      "text/plain": [
       "1584316"
      ]
     },
     "execution_count": 6,
     "metadata": {},
     "output_type": "execute_result"
    }
   ],
   "source": [
    "df.count()"
   ]
  },
  {
   "cell_type": "code",
   "execution_count": 7,
   "metadata": {},
   "outputs": [
    {
     "name": "stdout",
     "output_type": "stream",
     "text": [
      "+---------+-------------+-------------+-------------+-------+-----------+------------------+----------+----------------------+--------------------+----------+----------+--------------+------------+--------------------+----------------+--------------------+-----------+------------------+------------+------------+------------+------------+--------------------+------------+--------------------+\n",
      "|DR Number|Date Reported|Date Occurred|Time Occurred|Area ID|  Area Name|Reporting District|Crime Code|Crime Code Description|            MO Codes|Victim Age|Victim Sex|Victim Descent|Premise Code| Premise Description|Weapon Used Code|  Weapon Description|Status Code|Status Description|Crime Code 1|Crime Code 2|Crime Code 3|Crime Code 4|             Address|Cross Street|           Location |\n",
      "+---------+-------------+-------------+-------------+-------+-----------+------------------+----------+----------------------+--------------------+----------+----------+--------------+------------+--------------------+----------------+--------------------+-----------+------------------+------------+------------+------------+------------+--------------------+------------+--------------------+\n",
      "|  1208575|   03/14/2013|   03/11/2013|         1800|     12|77th Street|              1241|       626|  INTIMATE PARTNER ...| 0416 0446 1243 2000|      30.0|         F|             W|       502.0|MULTI-UNIT DWELLI...|           400.0|STRONG-ARM (HANDS...|         AO|       Adult Other|       626.0|        null|        null|        null|6300    BRYNHURST...|        null|(33.9829, -118.3338)|\n",
      "|102005556|   01/25/2010|   01/22/2010|         2300|     20|    Olympic|              2071|       510|      VEHICLE - STOLEN|                null|      null|      null|          null|       101.0|              STREET|            null|                null|         IC|       Invest Cont|       510.0|        null|        null|        null|            VAN NESS|        15TH|(34.0454, -118.3157)|\n",
      "|      418|   03/19/2013|   03/18/2013|         2030|     18|  Southeast|              1823|       510|      VEHICLE - STOLEN|                null|      12.0|      null|          null|       101.0|              STREET|            null|                null|         IC|       Invest Cont|       510.0|        null|        null|        null|200 E  104TH     ...|        null| (33.942, -118.2717)|\n",
      "|101822289|   11/11/2010|   11/10/2010|         1800|     18|  Southeast|              1803|       510|      VEHICLE - STOLEN|                null|      null|      null|          null|       101.0|              STREET|            null|                null|         IC|       Invest Cont|       510.0|        null|        null|        null|                88TH|        WALL|(33.9572, -118.2717)|\n",
      "| 42104479|   01/11/2014|   01/04/2014|         2300|     21|    Topanga|              2133|       745|  VANDALISM - MISDE...|                0329|      84.0|         M|             W|       501.0|SINGLE FAMILY DWE...|            null|                null|         IC|       Invest Cont|       745.0|        null|        null|        null|7200    CIRRUS   ...|        null|(34.2009, -118.6369)|\n",
      "|120125367|   01/08/2013|   01/08/2013|         1400|      1|    Central|               111|       110|     CRIMINAL HOMICIDE|1243 2000 1813 18...|      49.0|         F|             W|       501.0|SINGLE FAMILY DWE...|           400.0|STRONG-ARM (HANDS...|         AA|      Adult Arrest|       110.0|        null|        null|        null|600 N  HILL      ...|        null|(34.0591, -118.2412)|\n",
      "|101105609|   01/28/2010|   01/27/2010|         2230|     11|  Northeast|              1125|       510|      VEHICLE - STOLEN|                null|      null|      null|          null|       108.0|         PARKING LOT|            null|                null|         IC|       Invest Cont|       510.0|        null|        null|        null|                YORK|   AVENUE 51|(34.1211, -118.2048)|\n",
      "|101620051|   11/11/2010|   11/07/2010|         1600|     16|   Foothill|              1641|       510|      VEHICLE - STOLEN|                null|      null|      null|          null|       101.0|              STREET|            null|                null|         IC|       Invest Cont|       510.0|        null|        null|        null|           EL DORADO|   TRUESDALE| (34.241, -118.3987)|\n",
      "|101910498|   04/07/2010|   04/07/2010|         1600|     19|    Mission|              1902|       510|      VEHICLE - STOLEN|                null|      null|      null|          null|       101.0|              STREET|            null|                null|         IC|       Invest Cont|       510.0|        null|        null|        null|            GLENOAKS|       DRELL|(34.3147, -118.4589)|\n",
      "|120908292|   03/29/2013|   01/15/2013|          800|      9|   Van Nuys|               904|       668|  EMBEZZLEMENT, GRA...|           0344 1300|      27.0|         F|             O|       203.0|      OTHER BUSINESS|            null|                null|         IC|       Invest Cont|       668.0|        null|        null|        null|7200    SEPULVEDA...|        null|(34.2012, -118.4662)|\n",
      "|101927640|   12/31/2010|   12/30/2010|         2100|     19|    Mission|              1964|       510|      VEHICLE - STOLEN|                null|      null|      null|          null|       101.0|              STREET|            null|                null|         IC|       Invest Cont|       510.0|        null|        null|        null|            NORDHOFF|      TOBIAS|(34.2354, -118.4517)|\n",
      "|101323794|   10/26/2010|   10/26/2010|         1315|     13|     Newton|              1321|       510|      VEHICLE - STOLEN|                null|      null|      null|          null|       101.0|              STREET|            null|                null|         IC|       Invest Cont|       510.0|        null|        null|        null|                21ST|    BROADWAY|(34.0294, -118.2671)|\n",
      "|121207315|   02/22/2013|   02/13/2013|         1200|     12|77th Street|              1266|       440|  THEFT PLAIN - PET...|      1300 0701 1402|      42.0|         M|             H|       108.0|         PARKING LOT|            null|                null|         IC|       Invest Cont|       440.0|       998.0|        null|        null|                82ND|    BROADWAY|(33.9651, -118.2783)|\n",
      "|121215506|   06/20/2013|   06/07/2013|         1200|     12|77th Street|              1268|       763|              STALKING|      0443 0913 1309|      29.0|         M|             H|       101.0|              STREET|            null|                null|         AO|       Adult Other|       763.0|        null|        null|        null|100 W  82ND      ...|        null|(33.9651, -118.2754)|\n",
      "|121504289|   01/06/2013|   01/06/2013|         2030|     15|N Hollywood|              1511|       442|  SHOPLIFTING - PET...|           1402 0325|      12.0|         M|             O|       404.0|    DEPARTMENT STORE|            null|                null|         IC|       Invest Cont|       442.0|       998.0|        null|        null|13000    SHERMAN ...|        null| (34.2012, -118.416)|\n",
      "|121801608|   01/02/2013|   01/01/2013|          500|     18|  Southeast|              1823|       626|  INTIMATE PARTNER ...| 0334 0443 0408 0416|      19.0|         F|             H|       501.0|SINGLE FAMILY DWE...|            null|                null|         IC|       Invest Cont|       626.0|        null|        null|        null|CENTURY          ...|      AVALON|(33.9456, -118.2652)|\n",
      "|130100507|   01/02/2013|   01/02/2013|         1420|      1|    Central|               174|       624|  BATTERY - SIMPLE ...|      0416 0400 0429|      23.0|         M|             H|       102.0|            SIDEWALK|           400.0|STRONG-ARM (HANDS...|         IC|       Invest Cont|       624.0|        null|        null|        null|800 S  SPRING    ...|        null|(34.0431, -118.2536)|\n",
      "|130100508|   01/02/2013|   01/02/2013|         1430|      1|    Central|               134|       626|  INTIMATE PARTNER ...|2004 1218 1813 18...|      39.0|         F|             H|       101.0|              STREET|           400.0|STRONG-ARM (HANDS...|         IC|       Invest Cont|       626.0|        null|        null|        null|                 4TH|        HILL|(34.0503, -118.2504)|\n",
      "|130100509|   01/02/2013|   01/02/2013|         1500|      1|    Central|               185|       624|  BATTERY - SIMPLE ...| 0917 0419 0429 0417|      18.0|         F|             H|       406.0|         OTHER STORE|           400.0|STRONG-ARM (HANDS...|         JA|        Juv Arrest|       624.0|        null|        null|        null|300 E  PICO      ...|        null|(34.0352, -118.2583)|\n",
      "|130100515|   01/05/2013|   01/04/2013|         1730|      1|    Central|               162|       670|  EMBEZZLEMENT, PET...|                0344|      25.0|         M|             B|       404.0|    DEPARTMENT STORE|            null|                null|         IC|       Invest Cont|       670.0|        null|        null|        null|700 W  7TH       ...|        null| (34.048, -118.2577)|\n",
      "+---------+-------------+-------------+-------------+-------+-----------+------------------+----------+----------------------+--------------------+----------+----------+--------------+------------+--------------------+----------------+--------------------+-----------+------------------+------------+------------+------------+------------+--------------------+------------+--------------------+\n",
      "only showing top 20 rows\n",
      "\n"
     ]
    }
   ],
   "source": [
    "df.show()"
   ]
  },
  {
   "cell_type": "code",
   "execution_count": 8,
   "metadata": {},
   "outputs": [],
   "source": [
    "df_select = df.select('DR Number','Location ')"
   ]
  },
  {
   "cell_type": "code",
   "execution_count": 9,
   "metadata": {},
   "outputs": [
    {
     "name": "stdout",
     "output_type": "stream",
     "text": [
      "+---------+--------------------+\n",
      "|DR Number|           Location |\n",
      "+---------+--------------------+\n",
      "|  1208575|(33.9829, -118.3338)|\n",
      "|102005556|(34.0454, -118.3157)|\n",
      "|      418| (33.942, -118.2717)|\n",
      "|101822289|(33.9572, -118.2717)|\n",
      "| 42104479|(34.2009, -118.6369)|\n",
      "|120125367|(34.0591, -118.2412)|\n",
      "|101105609|(34.1211, -118.2048)|\n",
      "|101620051| (34.241, -118.3987)|\n",
      "|101910498|(34.3147, -118.4589)|\n",
      "|120908292|(34.2012, -118.4662)|\n",
      "|101927640|(34.2354, -118.4517)|\n",
      "|101323794|(34.0294, -118.2671)|\n",
      "|121207315|(33.9651, -118.2783)|\n",
      "|121215506|(33.9651, -118.2754)|\n",
      "|121504289| (34.2012, -118.416)|\n",
      "|121801608|(33.9456, -118.2652)|\n",
      "|130100507|(34.0431, -118.2536)|\n",
      "|130100508|(34.0503, -118.2504)|\n",
      "|130100509|(34.0352, -118.2583)|\n",
      "|130100515| (34.048, -118.2577)|\n",
      "+---------+--------------------+\n",
      "only showing top 20 rows\n",
      "\n"
     ]
    }
   ],
   "source": [
    "df_select.show()"
   ]
  },
  {
   "cell_type": "code",
   "execution_count": 10,
   "metadata": {},
   "outputs": [
    {
     "data": {
      "text/plain": [
       "1584316"
      ]
     },
     "execution_count": 10,
     "metadata": {},
     "output_type": "execute_result"
    }
   ],
   "source": [
    "df_select.count()"
   ]
  },
  {
   "cell_type": "code",
   "execution_count": 11,
   "metadata": {},
   "outputs": [],
   "source": [
    "# Register the DataFrame as a SQL temporary view\n",
    "df_select.createOrReplaceTempView(\"crime\")"
   ]
  },
  {
   "cell_type": "code",
   "execution_count": 12,
   "metadata": {},
   "outputs": [],
   "source": [
    "query = spark.sql(\"SELECT DISTINCT * \\\n",
    "            FROM crime\").na.drop()"
   ]
  },
  {
   "cell_type": "code",
   "execution_count": 13,
   "metadata": {},
   "outputs": [
    {
     "name": "stdout",
     "output_type": "stream",
     "text": [
      "+---------+--------------------+\n",
      "|DR Number|           Location |\n",
      "+---------+--------------------+\n",
      "|100215572| (34.0472, -118.301)|\n",
      "|100513021|(33.7324, -118.2879)|\n",
      "|101000698|(34.2011, -118.5404)|\n",
      "|101000880|(34.1975, -118.5524)|\n",
      "|101005206|(34.1867, -118.4948)|\n",
      "|101005317|  (34.213, -118.537)|\n",
      "|101007575|(34.1629, -118.5202)|\n",
      "|101007661| (34.212, -118.5448)|\n",
      "|101008029|(34.2084, -118.5448)|\n",
      "|101008526|(34.2069, -118.5033)|\n",
      "|101009974| (34.1939, -118.512)|\n",
      "|101010469|(34.1877, -118.5535)|\n",
      "|101011015|(34.1449, -118.5616)|\n",
      "|101012476|(34.1939, -118.4815)|\n",
      "|101012920|(34.1548, -118.4721)|\n",
      "|101013642|(34.1606, -118.5076)|\n",
      "|101014484|(34.1392, -118.4991)|\n",
      "|101014506|(34.1573, -118.4901)|\n",
      "|101015008|(34.1866, -118.5535)|\n",
      "|101015247|(34.1615, -118.5142)|\n",
      "+---------+--------------------+\n",
      "only showing top 20 rows\n",
      "\n"
     ]
    }
   ],
   "source": [
    "query.show()"
   ]
  },
  {
   "cell_type": "code",
   "execution_count": 14,
   "metadata": {},
   "outputs": [
    {
     "data": {
      "text/plain": [
       "1584307"
      ]
     },
     "execution_count": 14,
     "metadata": {},
     "output_type": "execute_result"
    }
   ],
   "source": [
    "query.count()"
   ]
  },
  {
   "cell_type": "code",
   "execution_count": 15,
   "metadata": {},
   "outputs": [],
   "source": [
    "# Import pandas\n",
    "import pandas as pd"
   ]
  },
  {
   "cell_type": "code",
   "execution_count": 16,
   "metadata": {},
   "outputs": [],
   "source": [
    "# Convert the result into pandas dataframe then save it as single csv file\n",
    "pd_query = query.toPandas()\n",
    "pd_query.to_csv(\"D:/TC/6BigData/Dataset/crime-data.csv\", index=False)"
   ]
  },
  {
   "cell_type": "markdown",
   "metadata": {},
   "source": [
    "## Clustering"
   ]
  },
  {
   "cell_type": "code",
   "execution_count": 17,
   "metadata": {},
   "outputs": [],
   "source": [
    "df = spark.read.csv(\"D:/TC/6BigData/Dataset/crime-data.csv\", header=True, inferSchema=True)"
   ]
  },
  {
   "cell_type": "code",
   "execution_count": 18,
   "metadata": {},
   "outputs": [
    {
     "name": "stdout",
     "output_type": "stream",
     "text": [
      "root\n",
      " |-- DR Number: integer (nullable = true)\n",
      " |-- Location : string (nullable = true)\n",
      "\n"
     ]
    }
   ],
   "source": [
    "df.printSchema()"
   ]
  },
  {
   "cell_type": "code",
   "execution_count": 19,
   "metadata": {},
   "outputs": [],
   "source": [
    "from pyspark.sql import functions as F\n",
    "split_col = F.split(df['Location '], ',')\n",
    "df = df.withColumn('lat', split_col.getItem(0))\n",
    "df = df.withColumn('lon', split_col.getItem(1))"
   ]
  },
  {
   "cell_type": "code",
   "execution_count": 20,
   "metadata": {},
   "outputs": [
    {
     "name": "stdout",
     "output_type": "stream",
     "text": [
      "+---------+--------------------+--------+-----------+\n",
      "|DR Number|           Location |     lat|        lon|\n",
      "+---------+--------------------+--------+-----------+\n",
      "|100215572| (34.0472, -118.301)|(34.0472|  -118.301)|\n",
      "|100513021|(33.7324, -118.2879)|(33.7324| -118.2879)|\n",
      "|101000698|(34.2011, -118.5404)|(34.2011| -118.5404)|\n",
      "|101000880|(34.1975, -118.5524)|(34.1975| -118.5524)|\n",
      "|101005206|(34.1867, -118.4948)|(34.1867| -118.4948)|\n",
      "|101005317|  (34.213, -118.537)| (34.213|  -118.537)|\n",
      "|101007575|(34.1629, -118.5202)|(34.1629| -118.5202)|\n",
      "|101007661| (34.212, -118.5448)| (34.212| -118.5448)|\n",
      "|101008029|(34.2084, -118.5448)|(34.2084| -118.5448)|\n",
      "|101008526|(34.2069, -118.5033)|(34.2069| -118.5033)|\n",
      "|101009974| (34.1939, -118.512)|(34.1939|  -118.512)|\n",
      "|101010469|(34.1877, -118.5535)|(34.1877| -118.5535)|\n",
      "|101011015|(34.1449, -118.5616)|(34.1449| -118.5616)|\n",
      "|101012476|(34.1939, -118.4815)|(34.1939| -118.4815)|\n",
      "|101012920|(34.1548, -118.4721)|(34.1548| -118.4721)|\n",
      "|101013642|(34.1606, -118.5076)|(34.1606| -118.5076)|\n",
      "|101014484|(34.1392, -118.4991)|(34.1392| -118.4991)|\n",
      "|101014506|(34.1573, -118.4901)|(34.1573| -118.4901)|\n",
      "|101015008|(34.1866, -118.5535)|(34.1866| -118.5535)|\n",
      "|101015247|(34.1615, -118.5142)|(34.1615| -118.5142)|\n",
      "+---------+--------------------+--------+-----------+\n",
      "only showing top 20 rows\n",
      "\n"
     ]
    }
   ],
   "source": [
    "df.show()"
   ]
  },
  {
   "cell_type": "code",
   "execution_count": 21,
   "metadata": {},
   "outputs": [
    {
     "name": "stdout",
     "output_type": "stream",
     "text": [
      "root\n",
      " |-- DR Number: integer (nullable = true)\n",
      " |-- Location : string (nullable = true)\n",
      " |-- lat: string (nullable = true)\n",
      " |-- lon: string (nullable = true)\n",
      "\n"
     ]
    }
   ],
   "source": [
    "df.printSchema()"
   ]
  },
  {
   "cell_type": "code",
   "execution_count": 22,
   "metadata": {},
   "outputs": [],
   "source": [
    "# Register the DataFrame as a SQL temporary view\n",
    "df.createOrReplaceTempView(\"crime\")"
   ]
  },
  {
   "cell_type": "code",
   "execution_count": 23,
   "metadata": {},
   "outputs": [],
   "source": [
    "query = spark.sql(\"SELECT `DR Number` as dr_number, REPLACE (lat,'(') as lat, REPLACE (lon,')') as lon\\\n",
    "            FROM crime\")"
   ]
  },
  {
   "cell_type": "code",
   "execution_count": 24,
   "metadata": {},
   "outputs": [
    {
     "name": "stdout",
     "output_type": "stream",
     "text": [
      "+---------+-------+----------+\n",
      "|dr_number|    lat|       lon|\n",
      "+---------+-------+----------+\n",
      "|100215572|34.0472|  -118.301|\n",
      "|100513021|33.7324| -118.2879|\n",
      "|101000698|34.2011| -118.5404|\n",
      "|101000880|34.1975| -118.5524|\n",
      "|101005206|34.1867| -118.4948|\n",
      "|101005317| 34.213|  -118.537|\n",
      "|101007575|34.1629| -118.5202|\n",
      "|101007661| 34.212| -118.5448|\n",
      "|101008029|34.2084| -118.5448|\n",
      "|101008526|34.2069| -118.5033|\n",
      "|101009974|34.1939|  -118.512|\n",
      "|101010469|34.1877| -118.5535|\n",
      "|101011015|34.1449| -118.5616|\n",
      "|101012476|34.1939| -118.4815|\n",
      "|101012920|34.1548| -118.4721|\n",
      "|101013642|34.1606| -118.5076|\n",
      "|101014484|34.1392| -118.4991|\n",
      "|101014506|34.1573| -118.4901|\n",
      "|101015008|34.1866| -118.5535|\n",
      "|101015247|34.1615| -118.5142|\n",
      "+---------+-------+----------+\n",
      "only showing top 20 rows\n",
      "\n"
     ]
    }
   ],
   "source": [
    "query.show()"
   ]
  },
  {
   "cell_type": "code",
   "execution_count": 25,
   "metadata": {},
   "outputs": [
    {
     "name": "stdout",
     "output_type": "stream",
     "text": [
      "root\n",
      " |-- DR Number: integer (nullable = true)\n",
      " |-- Location : string (nullable = true)\n",
      " |-- lat: string (nullable = true)\n",
      " |-- lon: string (nullable = true)\n",
      "\n"
     ]
    }
   ],
   "source": [
    "df.printSchema()"
   ]
  },
  {
   "cell_type": "code",
   "execution_count": 26,
   "metadata": {},
   "outputs": [],
   "source": [
    "# Convert the type of Latitude and Longitude values into double\n",
    "query = query.withColumn(\"lat\", query[\"lat\"].cast(\"double\"))\n",
    "query = query.withColumn(\"lon\", query[\"lon\"].cast(\"double\"))"
   ]
  },
  {
   "cell_type": "code",
   "execution_count": 27,
   "metadata": {},
   "outputs": [
    {
     "name": "stdout",
     "output_type": "stream",
     "text": [
      "+---------+-------+---------+\n",
      "|dr_number|    lat|      lon|\n",
      "+---------+-------+---------+\n",
      "|100215572|34.0472| -118.301|\n",
      "|100513021|33.7324|-118.2879|\n",
      "|101000698|34.2011|-118.5404|\n",
      "|101000880|34.1975|-118.5524|\n",
      "|101005206|34.1867|-118.4948|\n",
      "|101005317| 34.213| -118.537|\n",
      "|101007575|34.1629|-118.5202|\n",
      "|101007661| 34.212|-118.5448|\n",
      "|101008029|34.2084|-118.5448|\n",
      "|101008526|34.2069|-118.5033|\n",
      "|101009974|34.1939| -118.512|\n",
      "|101010469|34.1877|-118.5535|\n",
      "|101011015|34.1449|-118.5616|\n",
      "|101012476|34.1939|-118.4815|\n",
      "|101012920|34.1548|-118.4721|\n",
      "|101013642|34.1606|-118.5076|\n",
      "|101014484|34.1392|-118.4991|\n",
      "|101014506|34.1573|-118.4901|\n",
      "|101015008|34.1866|-118.5535|\n",
      "|101015247|34.1615|-118.5142|\n",
      "+---------+-------+---------+\n",
      "only showing top 20 rows\n",
      "\n"
     ]
    }
   ],
   "source": [
    "query.show()"
   ]
  },
  {
   "cell_type": "code",
   "execution_count": 28,
   "metadata": {},
   "outputs": [
    {
     "name": "stdout",
     "output_type": "stream",
     "text": [
      "root\n",
      " |-- dr_number: integer (nullable = true)\n",
      " |-- lat: double (nullable = true)\n",
      " |-- lon: double (nullable = true)\n",
      "\n"
     ]
    }
   ],
   "source": [
    "query.printSchema()"
   ]
  },
  {
   "cell_type": "code",
   "execution_count": 29,
   "metadata": {},
   "outputs": [],
   "source": [
    "# Convert the result into pandas dataframe then save it as single csv file\n",
    "pd_query = query.toPandas()\n",
    "pd_query.to_csv(\"D:/TC/6BigData/Dataset/crime-data-final.csv\", index=False)"
   ]
  },
  {
   "cell_type": "code",
   "execution_count": 30,
   "metadata": {},
   "outputs": [
    {
     "name": "stdout",
     "output_type": "stream",
     "text": [
      "+---------+-------+---------+-------------------+\n",
      "|dr_number|    lat|      lon|           features|\n",
      "+---------+-------+---------+-------------------+\n",
      "|100215572|34.0472| -118.301| [34.0472,-118.301]|\n",
      "|100513021|33.7324|-118.2879|[33.7324,-118.2879]|\n",
      "|101000698|34.2011|-118.5404|[34.2011,-118.5404]|\n",
      "|101000880|34.1975|-118.5524|[34.1975,-118.5524]|\n",
      "|101005206|34.1867|-118.4948|[34.1867,-118.4948]|\n",
      "|101005317| 34.213| -118.537|  [34.213,-118.537]|\n",
      "|101007575|34.1629|-118.5202|[34.1629,-118.5202]|\n",
      "|101007661| 34.212|-118.5448| [34.212,-118.5448]|\n",
      "|101008029|34.2084|-118.5448|[34.2084,-118.5448]|\n",
      "|101008526|34.2069|-118.5033|[34.2069,-118.5033]|\n",
      "|101009974|34.1939| -118.512| [34.1939,-118.512]|\n",
      "|101010469|34.1877|-118.5535|[34.1877,-118.5535]|\n",
      "|101011015|34.1449|-118.5616|[34.1449,-118.5616]|\n",
      "|101012476|34.1939|-118.4815|[34.1939,-118.4815]|\n",
      "|101012920|34.1548|-118.4721|[34.1548,-118.4721]|\n",
      "|101013642|34.1606|-118.5076|[34.1606,-118.5076]|\n",
      "|101014484|34.1392|-118.4991|[34.1392,-118.4991]|\n",
      "|101014506|34.1573|-118.4901|[34.1573,-118.4901]|\n",
      "|101015008|34.1866|-118.5535|[34.1866,-118.5535]|\n",
      "|101015247|34.1615|-118.5142|[34.1615,-118.5142]|\n",
      "+---------+-------+---------+-------------------+\n",
      "only showing top 20 rows\n",
      "\n"
     ]
    }
   ],
   "source": [
    "# Assembling Vector\n",
    "from pyspark.ml.feature import VectorAssembler\n",
    "\n",
    "assembler = VectorAssembler(\n",
    "    inputCols=[\"lat\",\"lon\"],\n",
    "    outputCol='features')\n",
    "\n",
    "query = assembler.transform(query)\n",
    "query.show()"
   ]
  },
  {
   "cell_type": "code",
   "execution_count": 31,
   "metadata": {},
   "outputs": [],
   "source": [
    "# Train model\n",
    "from pyspark.ml.clustering import KMeans\n",
    "from pyspark.ml.evaluation import ClusteringEvaluator\n",
    "\n",
    "kmeans = KMeans().setK(7).setSeed(1)\n",
    "model = kmeans.fit(query)"
   ]
  },
  {
   "cell_type": "code",
   "execution_count": 32,
   "metadata": {},
   "outputs": [
    {
     "name": "stdout",
     "output_type": "stream",
     "text": [
      "+---------+-------+---------+-------------------+----------+\n",
      "|dr_number|    lat|      lon|           features|prediction|\n",
      "+---------+-------+---------+-------------------+----------+\n",
      "|100215572|34.0472| -118.301| [34.0472,-118.301]|         3|\n",
      "|100513021|33.7324|-118.2879|[33.7324,-118.2879]|         4|\n",
      "|101000698|34.2011|-118.5404|[34.2011,-118.5404]|         6|\n",
      "|101000880|34.1975|-118.5524|[34.1975,-118.5524]|         6|\n",
      "|101005206|34.1867|-118.4948|[34.1867,-118.4948]|         6|\n",
      "|101005317| 34.213| -118.537|  [34.213,-118.537]|         6|\n",
      "|101007575|34.1629|-118.5202|[34.1629,-118.5202]|         6|\n",
      "|101007661| 34.212|-118.5448| [34.212,-118.5448]|         6|\n",
      "|101008029|34.2084|-118.5448|[34.2084,-118.5448]|         6|\n",
      "|101008526|34.2069|-118.5033|[34.2069,-118.5033]|         6|\n",
      "|101009974|34.1939| -118.512| [34.1939,-118.512]|         6|\n",
      "|101010469|34.1877|-118.5535|[34.1877,-118.5535]|         6|\n",
      "|101011015|34.1449|-118.5616|[34.1449,-118.5616]|         6|\n",
      "|101012476|34.1939|-118.4815|[34.1939,-118.4815]|         0|\n",
      "|101012920|34.1548|-118.4721|[34.1548,-118.4721]|         0|\n",
      "|101013642|34.1606|-118.5076|[34.1606,-118.5076]|         6|\n",
      "|101014484|34.1392|-118.4991|[34.1392,-118.4991]|         6|\n",
      "|101014506|34.1573|-118.4901|[34.1573,-118.4901]|         0|\n",
      "|101015008|34.1866|-118.5535|[34.1866,-118.5535]|         6|\n",
      "|101015247|34.1615|-118.5142|[34.1615,-118.5142]|         6|\n",
      "+---------+-------+---------+-------------------+----------+\n",
      "only showing top 20 rows\n",
      "\n"
     ]
    }
   ],
   "source": [
    "# Make a prediction\n",
    "predictions = model.transform(query)\n",
    "predictions.show()"
   ]
  },
  {
   "cell_type": "code",
   "execution_count": 33,
   "metadata": {},
   "outputs": [
    {
     "name": "stdout",
     "output_type": "stream",
     "text": [
      "Cluster Centers: \n",
      "[  34.21233957 -118.42095375]\n",
      "[0. 0.]\n",
      "[  33.97874926 -118.28550115]\n",
      "[  34.07017927 -118.27026604]\n",
      "[  33.7692004  -118.28606439]\n",
      "[  34.0262328  -118.40587631]\n",
      "[  34.210646   -118.56138953]\n"
     ]
    }
   ],
   "source": [
    "# Shows the result\n",
    "centers = model.clusterCenters()\n",
    "print(\"Cluster Centers: \")\n",
    "for center in centers:\n",
    "    print(center)"
   ]
  }
 ],
 "metadata": {
  "kernelspec": {
   "display_name": "Python 2",
   "language": "python",
   "name": "python2"
  },
  "language_info": {
   "codemirror_mode": {
    "name": "ipython",
    "version": 2
   },
   "file_extension": ".py",
   "mimetype": "text/x-python",
   "name": "python",
   "nbconvert_exporter": "python",
   "pygments_lexer": "ipython2",
   "version": "2.7.14"
  }
 },
 "nbformat": 4,
 "nbformat_minor": 2
}
