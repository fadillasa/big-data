{
 "cells": [
  {
   "cell_type": "markdown",
   "metadata": {},
   "source": [
    "## Spark Initialization"
   ]
  },
  {
   "cell_type": "code",
   "execution_count": 1,
   "metadata": {},
   "outputs": [],
   "source": [
    "import findspark\n",
    "findspark.init()"
   ]
  },
  {
   "cell_type": "code",
   "execution_count": 2,
   "metadata": {},
   "outputs": [
    {
     "name": "stdout",
     "output_type": "stream",
     "text": [
      "<pyspark.sql.session.SparkSession object at 0x00000000062AA1D0>\n"
     ]
    }
   ],
   "source": [
    "from pyspark.sql import SparkSession\n",
    "\n",
    "# Create Spark Session\n",
    "spark = SparkSession \\\n",
    "    .builder \\\n",
    "    .appName(\"Python Spark Frequent Itemsets Example\") \\\n",
    "    .getOrCreate()\n",
    "\n",
    "print(spark)"
   ]
  },
  {
   "cell_type": "code",
   "execution_count": 3,
   "metadata": {},
   "outputs": [],
   "source": [
    "from pyspark.ml.evaluation import RegressionEvaluator\n",
    "from pyspark.ml.recommendation import ALS\n",
    "from pyspark.sql import Row"
   ]
  },
  {
   "cell_type": "markdown",
   "metadata": {},
   "source": [
    "## Load Dataset"
   ]
  },
  {
   "cell_type": "code",
   "execution_count": 4,
   "metadata": {},
   "outputs": [
    {
     "name": "stdout",
     "output_type": "stream",
     "text": [
      "+------+-------+------+-------------+\n",
      "|userID|movieID|rating|    timestamp|\n",
      "+------+-------+------+-------------+\n",
      "|    75|      3|   1.0|1162160236000|\n",
      "|    75|     32|   4.5|1162160624000|\n",
      "|    75|    110|   4.0|1162161008000|\n",
      "|    75|    160|   2.0|1162160212000|\n",
      "|    75|    163|   4.0|1162160970000|\n",
      "|    75|    165|   4.5|1162160715000|\n",
      "|    75|    173|   3.5|1162160257000|\n",
      "|    75|    296|   5.0|1162160689000|\n",
      "|    75|    353|   3.5|1162160220000|\n",
      "|    75|    420|   2.0|1162160202000|\n",
      "|    75|    589|   4.0|1162160901000|\n",
      "|    75|    653|   3.0|1162160225000|\n",
      "|    75|    832|   4.5|1162160269000|\n",
      "|    75|    920|   0.5|1162160228000|\n",
      "|    75|    996|   4.5|1162160777000|\n",
      "|    75|   1036|   4.0|1162160685000|\n",
      "|    75|   1127|   3.5|1162160932000|\n",
      "|    75|   1215|   4.5|1162160936000|\n",
      "|    75|   1233|   4.0|1162161005000|\n",
      "|    75|   1304|   2.5|1162160216000|\n",
      "+------+-------+------+-------------+\n",
      "only showing top 20 rows\n",
      "\n"
     ]
    }
   ],
   "source": [
    "ratings = spark.read.option(\"header\", \"true\") \\\n",
    "        .option(\"delimiter\", \"\\t\") \\\n",
    "        .option(\"inferSchema\", \"true\") \\\n",
    "        .csv(\"D:/TC/6BigData/Dataset/hetrec2011-movielens-2k-v2/user_ratedmovies-timestamps.dat\")\n",
    "ratings.show()"
   ]
  },
  {
   "cell_type": "code",
   "execution_count": 5,
   "metadata": {},
   "outputs": [
    {
     "name": "stdout",
     "output_type": "stream",
     "text": [
      "root\n",
      " |-- userID: integer (nullable = true)\n",
      " |-- movieID: integer (nullable = true)\n",
      " |-- rating: double (nullable = true)\n",
      " |-- timestamp: long (nullable = true)\n",
      "\n"
     ]
    }
   ],
   "source": [
    "ratings.printSchema()"
   ]
  },
  {
   "cell_type": "code",
   "execution_count": 6,
   "metadata": {},
   "outputs": [
    {
     "data": {
      "text/plain": [
       "855598"
      ]
     },
     "execution_count": 6,
     "metadata": {},
     "output_type": "execute_result"
    }
   ],
   "source": [
    "ratings.count()"
   ]
  },
  {
   "cell_type": "markdown",
   "metadata": {},
   "source": [
    "## Create Model"
   ]
  },
  {
   "cell_type": "code",
   "execution_count": 7,
   "metadata": {},
   "outputs": [],
   "source": [
    "(training, test) = ratings.randomSplit([0.8, 0.2])"
   ]
  },
  {
   "cell_type": "code",
   "execution_count": 8,
   "metadata": {},
   "outputs": [],
   "source": [
    "# Build the recommendation model using ALS on the training data\n",
    "# Note we set cold start strategy to 'drop' to ensure we don't get NaN evaluation metrics\n",
    "als = ALS(userCol=\"userID\", itemCol=\"movieID\", ratingCol=\"rating\",\n",
    "          coldStartStrategy=\"drop\")\n",
    "model = als.fit(training)"
   ]
  },
  {
   "cell_type": "code",
   "execution_count": 9,
   "metadata": {},
   "outputs": [
    {
     "name": "stdout",
     "output_type": "stream",
     "text": [
      "Root-mean-square error = 0.776208723821\n"
     ]
    }
   ],
   "source": [
    "# Evaluate the model by computing the RMSE on the test data\n",
    "predictions = model.transform(test)\n",
    "evaluator = RegressionEvaluator(metricName=\"rmse\", labelCol=\"rating\",\n",
    "                                predictionCol=\"prediction\")\n",
    "rmse = evaluator.evaluate(predictions)\n",
    "print(\"Root-mean-square error = \" + str(rmse))"
   ]
  },
  {
   "cell_type": "code",
   "execution_count": 10,
   "metadata": {},
   "outputs": [
    {
     "name": "stdout",
     "output_type": "stream",
     "text": [
      "+------+--------------------+\n",
      "|userID|     recommendations|\n",
      "+------+--------------------+\n",
      "| 14570|[[61742, 4.413881...|\n",
      "| 57380|[[61742, 5.337688...|\n",
      "| 24171|[[2934, 5.08661],...|\n",
      "| 47711|[[61742, 4.518031...|\n",
      "| 64423|[[61742, 5.546025...|\n",
      "| 16574|[[61742, 5.822988...|\n",
      "| 32445|[[61742, 4.869812...|\n",
      "| 53565|[[61742, 4.569808...|\n",
      "| 59355|[[61742, 4.965732...|\n",
      "| 12046|[[61742, 5.542124...|\n",
      "| 15846|[[61742, 5.782717...|\n",
      "| 41946|[[2934, 5.184189]...|\n",
      "| 43527|[[61742, 5.523022...|\n",
      "| 65867|[[61742, 4.458104...|\n",
      "| 36538|[[61742, 5.519878...|\n",
      "| 49308|[[61742, 5.361971...|\n",
      "| 18979|[[130, 7.3697224]...|\n",
      "| 62880|[[2934, 4.85392],...|\n",
      "| 18161|[[61742, 5.44845]...|\n",
      "| 69341|[[61742, 4.929091...|\n",
      "+------+--------------------+\n",
      "only showing top 20 rows\n",
      "\n"
     ]
    }
   ],
   "source": [
    "# Generate top 10 movie recommendations for each user\n",
    "userRecs = model.recommendForAllUsers(10)\n",
    "userRecs.show()"
   ]
  },
  {
   "cell_type": "code",
   "execution_count": 11,
   "metadata": {},
   "outputs": [
    {
     "name": "stdout",
     "output_type": "stream",
     "text": [
      "+-------+--------------------+\n",
      "|movieID|     recommendations|\n",
      "+-------+--------------------+\n",
      "|   1580|[[55124, 4.817816...|\n",
      "|   4900|[[37225, 4.47273]...|\n",
      "|   5300|[[66190, 4.723829...|\n",
      "|   6620|[[27297, 4.691498...|\n",
      "|   7240|[[31156, 3.287021...|\n",
      "|   7340|[[38854, 4.922385...|\n",
      "|   7880|[[14614, 4.076333...|\n",
      "|  30970|[[53192, 4.655610...|\n",
      "|  32460|[[48038, 5.692684...|\n",
      "|  54190|[[20832, 4.640445...|\n",
      "|  57370|[[68943, 4.027431...|\n",
      "|    471|[[48038, 4.736878...|\n",
      "|   1591|[[26136, 3.737648...|\n",
      "|   1342|[[27297, 4.295312...|\n",
      "|   2122|[[48395, 3.623956...|\n",
      "|   2142|[[27297, 4.495956...|\n",
      "|   7982|[[48038, 5.155616...|\n",
      "|   8592|[[11451, 3.675028...|\n",
      "|  33722|[[20832, 4.766207...|\n",
      "|  44022|[[20832, 4.544161...|\n",
      "+-------+--------------------+\n",
      "only showing top 20 rows\n",
      "\n"
     ]
    }
   ],
   "source": [
    "# Generate top 10 user recommendations for each movie\n",
    "movieRecs = model.recommendForAllItems(10)\n",
    "movieRecs.show()"
   ]
  }
 ],
 "metadata": {
  "kernelspec": {
   "display_name": "Python 2",
   "language": "python",
   "name": "python2"
  },
  "language_info": {
   "codemirror_mode": {
    "name": "ipython",
    "version": 2
   },
   "file_extension": ".py",
   "mimetype": "text/x-python",
   "name": "python",
   "nbconvert_exporter": "python",
   "pygments_lexer": "ipython2",
   "version": "2.7.14"
  }
 },
 "nbformat": 4,
 "nbformat_minor": 2
}
